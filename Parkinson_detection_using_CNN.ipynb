{
 "cells": [
  {
   "cell_type": "code",
   "execution_count": 27,
   "metadata": {
    "id": "v1A34JHPdqHB"
   },
   "outputs": [],
   "source": [
    "import numpy as np\n",
    "import pandas as pd\n",
    "import matplotlib.pyplot as plt\n",
    "import matplotlib.image as mpimg\n",
    "import cv2\n",
    "from PIL import Image\n",
    "from sklearn.model_selection import train_test_split"
   ]
  },
  {
   "cell_type": "code",
   "execution_count": null,
   "metadata": {
    "colab": {
     "base_uri": "https://localhost:8080/"
    },
    "id": "Hhm69XRse4_-",
    "outputId": "b2243abd-c8ad-4c7e-feff-5a0af637b20a"
   },
   "outputs": [],
   "source": [
    "print('The dataset is extracted')\n",
    "extraction_path=r'C:\\Users\\Nandu Gatla\\Downloads\\parkinsons_dataset project\\parkinsons_dataset'"
   ]
  },
  {
   "cell_type": "code",
   "execution_count": null,
   "metadata": {},
   "outputs": [],
   "source": [
    "import matplotlib.pyplot as plt\n",
    "import matplotlib.image as mpimg\n",
    "import os\n",
    "\n",
    "image_path = os.path.join(extraction_path, r'C:\\Users\\Nandu Gatla\\Downloads\\parkinsons_dataset project\\parkinsons_dataset')  # Replace with actual image path\n",
    "img = mpimg.imread(image_path)\n",
    "plt.imshow(img)\n",
    "plt.axis('off')\n",
    "plt.show()"
   ]
  },
  {
   "cell_type": "code",
   "execution_count": null,
   "metadata": {
    "colab": {
     "base_uri": "https://localhost:8080/"
    },
    "id": "xhPZu9wtfGVU",
    "outputId": "7cbd0244-4c9e-4a29-8ace-a49973f8bf02"
   },
   "outputs": [],
   "source": [
    "import os\n",
    "normal = os.listdir(r'C:\\Users\\Nandu Gatla\\Downloads\\parkinsons_dataset project\\parkinsons_dataset\\normal')\n",
    "print(normal)\n",
    "print(len(normal))"
   ]
  },
  {
   "cell_type": "code",
   "execution_count": null,
   "metadata": {
    "colab": {
     "base_uri": "https://localhost:8080/"
    },
    "id": "bgF2RbvIfrF_",
    "outputId": "35c25148-306a-4948-dfdb-d73cd559afb8"
   },
   "outputs": [],
   "source": [
    "import os\n",
    "parkinson = os.listdir(r'C:\\Users\\Nandu Gatla\\Downloads\\parkinsons_dataset project\\parkinsons_dataset\\parkinson')\n",
    "print(parkinson)\n",
    "print(len(parkinson))"
   ]
  },
  {
   "cell_type": "markdown",
   "metadata": {
    "id": "SvCy6wM1DB70"
   },
   "source": [
    "### Creating labels for Normal and Parkinson\n",
    "#### Parkinson-->1\n",
    "#### Normal-->0"
   ]
  },
  {
   "cell_type": "code",
   "execution_count": 3,
   "metadata": {
    "id": "aPi0WS2tf9J1"
   },
   "outputs": [],
   "source": [
    "normal_label=[0]*610\n",
    "\n",
    "parkinson_label=[1]*221"
   ]
  },
  {
   "cell_type": "code",
   "execution_count": null,
   "metadata": {
    "colab": {
     "base_uri": "https://localhost:8080/"
    },
    "id": "qFLARH9zssTH",
    "outputId": "102b13ef-afdf-433e-a92c-74b27d9084da"
   },
   "outputs": [],
   "source": [
    "print(normal_label)\n",
    "print(parkinson_label)"
   ]
  },
  {
   "cell_type": "code",
   "execution_count": null,
   "metadata": {
    "colab": {
     "base_uri": "https://localhost:8080/"
    },
    "id": "Z6v9AYtIs04T",
    "outputId": "ddac9c9b-747d-48e0-b516-95f41d1a1134"
   },
   "outputs": [],
   "source": [
    "print(len(normal_label))\n",
    "print(len(parkinson_label))"
   ]
  },
  {
   "cell_type": "code",
   "execution_count": null,
   "metadata": {
    "colab": {
     "base_uri": "https://localhost:8080/"
    },
    "id": "jU6_I48Rk3-Z",
    "outputId": "88f053bd-c4c5-44fa-f91d-99d8e96abaaa"
   },
   "outputs": [],
   "source": [
    "labels = normal_label + parkinson_label\n",
    "labels"
   ]
  },
  {
   "cell_type": "code",
   "execution_count": null,
   "metadata": {
    "colab": {
     "base_uri": "https://localhost:8080/"
    },
    "id": "a7020ashs90a",
    "outputId": "8ba776df-03c1-4cf7-a79f-5cb995dd5832"
   },
   "outputs": [],
   "source": [
    "print(len(labels))"
   ]
  },
  {
   "cell_type": "markdown",
   "metadata": {
    "id": "Z3EbSOxothso"
   },
   "source": [
    "**Displaying the image**\n"
   ]
  },
  {
   "cell_type": "code",
   "execution_count": null,
   "metadata": {
    "colab": {
     "base_uri": "https://localhost:8080/",
     "height": 435
    },
    "id": "5EEdwVI8tmyH",
    "outputId": "4d02a0b6-f6c3-41f2-bbd4-956320365a1a"
   },
   "outputs": [],
   "source": [
    "# displaying with normal image\n",
    "import matplotlib.pyplot as plt\n",
    "import matplotlib.image as mpimg\n",
    "import os\n",
    "\n",
    "img = mpimg.imread(r'C:\\Users\\Nandu Gatla\\Downloads\\parkinsons_dataset project\\parkinsons_dataset\\normal\\Mag_Images_025.png')\n",
    "imgplot = plt.imshow(img)\n",
    "plt.show()"
   ]
  },
  {
   "cell_type": "code",
   "execution_count": null,
   "metadata": {
    "colab": {
     "base_uri": "https://localhost:8080/",
     "height": 434
    },
    "id": "peletBJ7t87I",
    "outputId": "fe830ba2-b739-474d-c483-b037baa60f67"
   },
   "outputs": [],
   "source": [
    "# displaying parkinson disease image\n",
    "img = mpimg.imread(r'C:\\Users\\Nandu Gatla\\Downloads\\parkinsons_dataset project\\parkinsons_dataset\\parkinson\\DUAL_TSE_009.png')\n",
    "imgplot = plt.imshow(img)\n",
    "plt.show()"
   ]
  },
  {
   "cell_type": "markdown",
   "metadata": {
    "id": "XI9I402-Gh2d"
   },
   "source": [
    "### Image Processing\n",
    "   ##### 1.Resize image\n",
    "   ##### 2.Convert the images to numpy arrays\n"
   ]
  },
  {
   "cell_type": "code",
   "execution_count": 15,
   "metadata": {
    "id": "omboF697gbS0"
   },
   "outputs": [],
   "source": [
    "from PIL import Image\n",
    "import numpy as np\n",
    "import os\n",
    "\n",
    "normal_data = r'C:\\Users\\Nandu Gatla\\Downloads\\parkinsons_dataset project\\parkinsons_dataset\\normal'\n",
    "parkinson_data = r'C:\\Users\\Nandu Gatla\\Downloads\\parkinsons_dataset project\\parkinsons_dataset\\parkinson'\n",
    "\n",
    "normal_files = os.listdir(normal_data)\n",
    "parkinson_files = os.listdir(parkinson_data)\n",
    "\n",
    "data = []\n",
    "\n",
    "# Process normal images\n",
    "for img_file in normal_files:\n",
    "    img_path = os.path.join(normal_data, img_file)\n",
    "    image = Image.open(img_path)\n",
    "    image = image.resize((128, 128))\n",
    "    image = image.convert('RGB')\n",
    "    image = np.array(image)\n",
    "    data.append(image)\n",
    "\n",
    "# Process parkinson images\n",
    "for img_file in parkinson_files:\n",
    "    img_path = os.path.join(parkinson_data, img_file)\n",
    "    image = Image.open(img_path)\n",
    "    image = image.resize((128, 128))\n",
    "    image = image.convert('RGB')\n",
    "    image = np.array(image)\n",
    "    data.append(image)\n"
   ]
  },
  {
   "cell_type": "code",
   "execution_count": null,
   "metadata": {
    "colab": {
     "base_uri": "https://localhost:8080/"
    },
    "id": "VgwLO1fMhGVq",
    "outputId": "84954d9f-8ec2-4426-c5b8-cf1e26d844ac"
   },
   "outputs": [],
   "source": [
    "type(data)"
   ]
  },
  {
   "cell_type": "code",
   "execution_count": null,
   "metadata": {
    "colab": {
     "base_uri": "https://localhost:8080/"
    },
    "id": "7nRJ71kokMh8",
    "outputId": "b38feae2-8cd4-4203-ffba-e5a93c5da380"
   },
   "outputs": [],
   "source": [
    "len(data)"
   ]
  },
  {
   "cell_type": "code",
   "execution_count": null,
   "metadata": {
    "colab": {
     "base_uri": "https://localhost:8080/",
     "height": 168
    },
    "id": "mwziyilpkR0W",
    "outputId": "72015a91-4138-48da-96e7-881d7d0213aa"
   },
   "outputs": [],
   "source": [
    "data[800]"
   ]
  },
  {
   "cell_type": "code",
   "execution_count": null,
   "metadata": {
    "colab": {
     "base_uri": "https://localhost:8080/"
    },
    "id": "pbEaXRfFuf46",
    "outputId": "77f70146-f15e-4de5-fb87-5d6ca6f14a7e"
   },
   "outputs": [],
   "source": [
    "type(data[0])"
   ]
  },
  {
   "cell_type": "code",
   "execution_count": null,
   "metadata": {
    "colab": {
     "base_uri": "https://localhost:8080/"
    },
    "id": "rB3rh2Jbur8y",
    "outputId": "f8bc5df8-4b85-459a-fe70-2508f8d42758"
   },
   "outputs": [],
   "source": [
    "data[0].shape"
   ]
  },
  {
   "cell_type": "code",
   "execution_count": 21,
   "metadata": {
    "id": "1egLqG4tkaAr"
   },
   "outputs": [],
   "source": [
    "# converting image list and label list to numpy arrays\n",
    "\n",
    "x = np.array(data)\n",
    "y = np.array(labels)"
   ]
  },
  {
   "cell_type": "code",
   "execution_count": null,
   "metadata": {
    "colab": {
     "base_uri": "https://localhost:8080/"
    },
    "id": "Lrzi63qAkxx7",
    "outputId": "f48e3b50-be33-4574-da7f-7924b52f3e65"
   },
   "outputs": [],
   "source": [
    "x"
   ]
  },
  {
   "cell_type": "code",
   "execution_count": null,
   "metadata": {
    "colab": {
     "base_uri": "https://localhost:8080/"
    },
    "id": "LjvUatIKu0M0",
    "outputId": "52784090-d9f4-475b-f2a8-5ed0b5aec324"
   },
   "outputs": [],
   "source": [
    "type(x)"
   ]
  },
  {
   "cell_type": "code",
   "execution_count": null,
   "metadata": {
    "colab": {
     "base_uri": "https://localhost:8080/"
    },
    "id": "pCmk7iprlLQa",
    "outputId": "46585c17-4077-4151-fa8d-4de5af13acae"
   },
   "outputs": [],
   "source": [
    "y"
   ]
  },
  {
   "cell_type": "code",
   "execution_count": null,
   "metadata": {
    "colab": {
     "base_uri": "https://localhost:8080/"
    },
    "id": "RA-70OMAu8q3",
    "outputId": "bbf239d3-59f5-4b5d-8f69-8d181e078182"
   },
   "outputs": [],
   "source": [
    "print(x.shape)\n",
    "print(y.shape)"
   ]
  },
  {
   "cell_type": "markdown",
   "metadata": {
    "id": "FhHEbjZyIcLC"
   },
   "source": [
    "#### Splitting data into train and test"
   ]
  },
  {
   "cell_type": "code",
   "execution_count": 30,
   "metadata": {
    "id": "n4zZkfa0lUYn"
   },
   "outputs": [],
   "source": [
    "X_train, X_test, Y_train, Y_test = train_test_split(x, y, test_size=0.2, random_state=2)"
   ]
  },
  {
   "cell_type": "code",
   "execution_count": null,
   "metadata": {
    "colab": {
     "base_uri": "https://localhost:8080/"
    },
    "id": "SP-AtH03vKfx",
    "outputId": "2e1383e1-a7ac-49e9-8dc4-e97182ac4d48"
   },
   "outputs": [],
   "source": [
    "X_train.shape"
   ]
  },
  {
   "cell_type": "code",
   "execution_count": null,
   "metadata": {
    "colab": {
     "base_uri": "https://localhost:8080/"
    },
    "id": "mjVD8oU1vPxl",
    "outputId": "f5a68001-4175-46f7-c167-c1c748bbf33c"
   },
   "outputs": [],
   "source": [
    "X_test.shape"
   ]
  },
  {
   "cell_type": "code",
   "execution_count": null,
   "metadata": {
    "colab": {
     "base_uri": "https://localhost:8080/"
    },
    "id": "ag6uS3yfvSsz",
    "outputId": "5b93543b-6266-4423-8c5d-9dfc91756b18"
   },
   "outputs": [],
   "source": [
    "Y_train.shape"
   ]
  },
  {
   "cell_type": "code",
   "execution_count": null,
   "metadata": {
    "colab": {
     "base_uri": "https://localhost:8080/"
    },
    "id": "rr85Gu2IvU3W",
    "outputId": "0e3ce372-4d9b-4332-b10e-c833e2c0cc92"
   },
   "outputs": [],
   "source": [
    "Y_test.shape"
   ]
  },
  {
   "cell_type": "code",
   "execution_count": 35,
   "metadata": {
    "id": "tvRT0cb3lm8q"
   },
   "outputs": [],
   "source": [
    "# scaling the data\n",
    "\n",
    "X_train_scaled = X_train/255\n",
    "\n",
    "X_test_scaled = X_test/255"
   ]
  },
  {
   "cell_type": "code",
   "execution_count": null,
   "metadata": {
    "colab": {
     "base_uri": "https://localhost:8080/"
    },
    "id": "WQ67eRmpvmlA",
    "outputId": "2aa14541-961d-4b01-84cd-a45b7c16e5e8"
   },
   "outputs": [],
   "source": [
    "X_train_scaled[0]"
   ]
  },
  {
   "cell_type": "code",
   "execution_count": null,
   "metadata": {
    "colab": {
     "base_uri": "https://localhost:8080/"
    },
    "id": "c_7NqlrYvtIx",
    "outputId": "cf57eea1-9fb6-48d9-f5ad-d4cad9181e0a"
   },
   "outputs": [],
   "source": [
    "X_test_scaled[0]"
   ]
  },
  {
   "cell_type": "markdown",
   "metadata": {
    "id": "gg4KguN7J22l"
   },
   "source": [
    "### Building CNN"
   ]
  },
  {
   "cell_type": "code",
   "execution_count": 38,
   "metadata": {
    "id": "E6C2S6xEl91O"
   },
   "outputs": [],
   "source": [
    "import tensorflow as tf\n",
    "from tensorflow.keras import layers, models\n",
    "from tensorflow import keras\n",
    "from keras.models import Sequential\n",
    "from keras.layers import Conv2D, MaxPooling2D, Flatten, Dense\n",
    "import matplotlib.pyplot as plt"
   ]
  },
  {
   "cell_type": "code",
   "execution_count": null,
   "metadata": {
    "id": "ssGA9lFMmEQK"
   },
   "outputs": [],
   "source": [
    "num_of_classes = 2\n",
    "\n",
    "cnn = keras.Sequential()\n",
    "\n",
    "cnn.add(keras.layers.Conv2D(32, kernel_size=(3,3), activation='relu', input_shape=(128,128,3)))\n",
    "cnn.add(keras.layers.MaxPooling2D(pool_size=(2,2)))\n",
    "\n",
    "cnn.add(keras.layers.Conv2D(64, kernel_size=(3,3), activation='relu'))\n",
    "cnn.add(keras.layers.MaxPooling2D(pool_size=(2,2)))\n",
    "\n",
    "cnn.add(keras.layers.Flatten())\n",
    "\n",
    "cnn.add(keras.layers.Dense(128, activation='relu'))\n",
    "cnn.add(keras.layers.Dropout(0.5))\n",
    "\n",
    "cnn.add(keras.layers.Dense(64, activation='relu'))\n",
    "cnn.add(keras.layers.Dropout(0.5))\n",
    "\n",
    "\n",
    "cnn.add(keras.layers.Dense(num_of_classes, activation='sigmoid'))\n"
   ]
  },
  {
   "cell_type": "code",
   "execution_count": null,
   "metadata": {
    "colab": {
     "base_uri": "https://localhost:8080/"
    },
    "id": "zZtzlqKfmHYl",
    "outputId": "dfdcea76-8d1f-4fd3-a267-993b418f10a8"
   },
   "outputs": [],
   "source": [
    "cnn.summary()"
   ]
  },
  {
   "cell_type": "code",
   "execution_count": 49,
   "metadata": {
    "id": "_yNM8TY7mRdc"
   },
   "outputs": [],
   "source": [
    "cnn.compile(optimizer='adam',loss='sparse_categorical_crossentropy',metrics=['accuracy'])"
   ]
  },
  {
   "cell_type": "code",
   "execution_count": null,
   "metadata": {
    "colab": {
     "base_uri": "https://localhost:8080/"
    },
    "id": "XThIVzp8mULM",
    "outputId": "42a33b78-e8a8-492a-bc54-e3e82d199957"
   },
   "outputs": [],
   "source": [
    "history = cnn.fit(X_train_scaled, Y_train, epochs=5, validation_data=(X_test_scaled, Y_test))"
   ]
  },
  {
   "cell_type": "code",
   "execution_count": null,
   "metadata": {
    "colab": {
     "base_uri": "https://localhost:8080/",
     "height": 472
    },
    "id": "2H1T9caXomiX",
    "outputId": "af1fdb03-5599-4257-c53f-8579b4abe259"
   },
   "outputs": [],
   "source": [
    "# Function to plot the accuracy graph\n",
    "def plot_accuracy(history):\n",
    "    acc = history.history['accuracy']\n",
    "    val_acc = history.history['val_accuracy']\n",
    "    epochs = range(1, len(acc) + 1)\n",
    "\n",
    "    plt.plot(epochs, acc, 'bo', label='Training accuracy')\n",
    "    plt.plot(epochs, val_acc, 'b', label='Validation accuracy')\n",
    "    plt.title('Training and validation accuracy')\n",
    "    plt.xlabel('Epochs')\n",
    "    plt.ylabel('Accuracy')\n",
    "    plt.legend()\n",
    "    plt.show()\n",
    "\n",
    "# Plotting the accuracy graph\n",
    "plot_accuracy(history)"
   ]
  },
  {
   "cell_type": "code",
   "execution_count": null,
   "metadata": {},
   "outputs": [],
   "source": [
    "cnn.save('parkinson.h5')"
   ]
  },
  {
   "cell_type": "markdown",
   "metadata": {
    "id": "nKYCX4FrTYzL"
   },
   "source": [
    "### Model Evaluation"
   ]
  },
  {
   "cell_type": "code",
   "execution_count": null,
   "metadata": {
    "colab": {
     "base_uri": "https://localhost:8080/"
    },
    "id": "zHzqg8P5mYQF",
    "outputId": "9ed64383-d232-404d-e6ca-26c380b06ab1"
   },
   "outputs": [],
   "source": [
    "accuracy = cnn.evaluate(X_test_scaled, Y_test)\n",
    "print('Test Accuracy =', accuracy)"
   ]
  },
  {
   "cell_type": "markdown",
   "metadata": {
    "id": "6hefkR8CeJET"
   },
   "source": [
    "### Predictive System"
   ]
  },
  {
   "cell_type": "code",
   "execution_count": null,
   "metadata": {
    "colab": {
     "base_uri": "https://localhost:8080/",
     "height": 342
    },
    "id": "UJ8ikAmhwzEY",
    "outputId": "a4ab95ec-3a01-48e6-da4e-00c926b52579"
   },
   "outputs": [],
   "source": [
    "import cv2\n",
    "import matplotlib.pyplot as plt\n",
    "import numpy as np\n",
    "import tensorflow as tf\n",
    "from tensorflow.keras import layers, models\n",
    "\n",
    "\n",
    "input_image_path = r'C:\\Users\\Nandu Gatla\\Downloads\\parkinsons_dataset project\\parkinsons_dataset\\parkinson\\dReg_-_sDW_SSh_SENSE_003.png'\n",
    "\n",
    "input_image = cv2.imread(input_image_path)\n",
    "\n",
    "\n",
    "input_image_resized = cv2.resize(input_image, (128,128))\n",
    "\n",
    "input_image_scaled = input_image_resized/255\n",
    "\n",
    "input_image_reshaped = np.reshape(input_image_scaled, [1,128,128,3])\n",
    "\n",
    "input_prediction = cnn.predict(input_image_reshaped)\n",
    "\n",
    "print(input_prediction)\n",
    "\n",
    "\n",
    "input_pred_label = np.argmax(input_prediction)\n",
    "\n",
    "print(input_pred_label)\n",
    "\n",
    "\n",
    "if input_pred_label == 0:\n",
    "\n",
    "  print('The person is Normal')\n",
    "\n",
    "else:\n",
    "\n",
    "  print('The person is having parkinson disease')"
   ]
  },
  {
   "cell_type": "code",
   "execution_count": null,
   "metadata": {},
   "outputs": [],
   "source": [
    "from sklearn.metrics import confusion_matrix, ConfusionMatrixDisplay\n",
    "import matplotlib.pyplot as plt\n",
    "\n",
    "# Assuming you have already loaded and preprocessed your data\n",
    "# and your model is trained and saved as 'parkinson_cnn_model.h5'\n",
    "from tensorflow.keras.models import load_model\n",
    "model = load_model(r'C:\\Users\\Nandu Gatla\\Downloads\\parkinsons_dataset project\\parkinson.h5')\n",
    "\n",
    "# Make predictions on the test set\n",
    "y_pred_prob = model.predict(X_test)\n",
    "y_pred = np.argmax(y_pred_prob, axis=1)\n",
    "\n",
    "# Generate confusion matrix\n",
    "cm = confusion_matrix(Y_test, y_pred)\n",
    "disp = ConfusionMatrixDisplay(confusion_matrix=cm)\n",
    "disp.plot()\n",
    "plt.show()\n",
    "\n"
   ]
  }
 ],
 "metadata": {
  "colab": {
   "provenance": []
  },
  "kernelspec": {
   "display_name": "Python 3 (ipykernel)",
   "language": "python",
   "name": "python3"
  },
  "language_info": {
   "codemirror_mode": {
    "name": "ipython",
    "version": 3
   },
   "file_extension": ".py",
   "mimetype": "text/x-python",
   "name": "python",
   "nbconvert_exporter": "python",
   "pygments_lexer": "ipython3",
   "version": "3.12.0"
  }
 },
 "nbformat": 4,
 "nbformat_minor": 4
}
