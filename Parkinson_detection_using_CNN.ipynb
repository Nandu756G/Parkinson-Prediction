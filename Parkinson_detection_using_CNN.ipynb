{
 "cells": [
  {
   "cell_type": "code",
   "execution_count": 27,
   "metadata": {
    "id": "v1A34JHPdqHB"
   },
   "outputs": [],
   "source": [
    "import numpy as np\n",
    "import pandas as pd\n",
    "import matplotlib.pyplot as plt\n",
    "import matplotlib.image as mpimg\n",
    "import cv2\n",
    "from PIL import Image\n",
    "from sklearn.model_selection import train_test_split"
   ]
  },
  {
   "cell_type": "code",
   "execution_count": 28,
   "metadata": {
    "colab": {
     "base_uri": "https://localhost:8080/"
    },
    "id": "Hhm69XRse4_-",
    "outputId": "b2243abd-c8ad-4c7e-feff-5a0af637b20a"
   },
   "outputs": [
    {
     "name": "stdout",
     "output_type": "stream",
     "text": [
      "The dataset is extracted\n"
     ]
    }
   ],
   "source": [
    "print('The dataset is extracted')\n",
    "extraction_path=r'C:\\Users\\Nandu Gatla\\Downloads\\parkinsons_dataset project\\parkinsons_dataset'"
   ]
  },
  {
   "cell_type": "code",
   "execution_count": 29,
   "metadata": {},
   "outputs": [
    {
     "ename": "PermissionError",
     "evalue": "[Errno 13] Permission denied: 'C:\\\\Users\\\\Nandu Gatla\\\\Downloads\\\\parkinsons_dataset project\\\\parkinsons_dataset'",
     "output_type": "error",
     "traceback": [
      "\u001b[1;31m---------------------------------------------------------------------------\u001b[0m",
      "\u001b[1;31mPermissionError\u001b[0m                           Traceback (most recent call last)",
      "Cell \u001b[1;32mIn[29], line 6\u001b[0m\n\u001b[0;32m      3\u001b[0m \u001b[38;5;28;01mimport\u001b[39;00m \u001b[38;5;21;01mos\u001b[39;00m\n\u001b[0;32m      5\u001b[0m image_path \u001b[38;5;241m=\u001b[39m os\u001b[38;5;241m.\u001b[39mpath\u001b[38;5;241m.\u001b[39mjoin(extraction_path, \u001b[38;5;124mr\u001b[39m\u001b[38;5;124m'\u001b[39m\u001b[38;5;124mC:\u001b[39m\u001b[38;5;124m\\\u001b[39m\u001b[38;5;124mUsers\u001b[39m\u001b[38;5;124m\\\u001b[39m\u001b[38;5;124mNandu Gatla\u001b[39m\u001b[38;5;124m\\\u001b[39m\u001b[38;5;124mDownloads\u001b[39m\u001b[38;5;124m\\\u001b[39m\u001b[38;5;124mparkinsons_dataset project\u001b[39m\u001b[38;5;124m\\\u001b[39m\u001b[38;5;124mparkinsons_dataset\u001b[39m\u001b[38;5;124m'\u001b[39m)  \u001b[38;5;66;03m# Replace with actual image path\u001b[39;00m\n\u001b[1;32m----> 6\u001b[0m img \u001b[38;5;241m=\u001b[39m \u001b[43mmpimg\u001b[49m\u001b[38;5;241;43m.\u001b[39;49m\u001b[43mimread\u001b[49m\u001b[43m(\u001b[49m\u001b[43mimage_path\u001b[49m\u001b[43m)\u001b[49m\n\u001b[0;32m      7\u001b[0m plt\u001b[38;5;241m.\u001b[39mimshow(img)\n\u001b[0;32m      8\u001b[0m plt\u001b[38;5;241m.\u001b[39maxis(\u001b[38;5;124m'\u001b[39m\u001b[38;5;124moff\u001b[39m\u001b[38;5;124m'\u001b[39m)\n",
      "File \u001b[1;32m~\\AppData\\Roaming\\Python\\Python312\\site-packages\\matplotlib\\image.py:1525\u001b[0m, in \u001b[0;36mimread\u001b[1;34m(fname, format)\u001b[0m\n\u001b[0;32m   1518\u001b[0m \u001b[38;5;28;01mif\u001b[39;00m \u001b[38;5;28misinstance\u001b[39m(fname, \u001b[38;5;28mstr\u001b[39m) \u001b[38;5;129;01mand\u001b[39;00m \u001b[38;5;28mlen\u001b[39m(parse\u001b[38;5;241m.\u001b[39murlparse(fname)\u001b[38;5;241m.\u001b[39mscheme) \u001b[38;5;241m>\u001b[39m \u001b[38;5;241m1\u001b[39m:\n\u001b[0;32m   1519\u001b[0m     \u001b[38;5;66;03m# Pillow doesn't handle URLs directly.\u001b[39;00m\n\u001b[0;32m   1520\u001b[0m     \u001b[38;5;28;01mraise\u001b[39;00m \u001b[38;5;167;01mValueError\u001b[39;00m(\n\u001b[0;32m   1521\u001b[0m         \u001b[38;5;124m\"\u001b[39m\u001b[38;5;124mPlease open the URL for reading and pass the \u001b[39m\u001b[38;5;124m\"\u001b[39m\n\u001b[0;32m   1522\u001b[0m         \u001b[38;5;124m\"\u001b[39m\u001b[38;5;124mresult to Pillow, e.g. with \u001b[39m\u001b[38;5;124m\"\u001b[39m\n\u001b[0;32m   1523\u001b[0m         \u001b[38;5;124m\"\u001b[39m\u001b[38;5;124m``np.array(PIL.Image.open(urllib.request.urlopen(url)))``.\u001b[39m\u001b[38;5;124m\"\u001b[39m\n\u001b[0;32m   1524\u001b[0m         )\n\u001b[1;32m-> 1525\u001b[0m \u001b[38;5;28;01mwith\u001b[39;00m \u001b[43mimg_open\u001b[49m\u001b[43m(\u001b[49m\u001b[43mfname\u001b[49m\u001b[43m)\u001b[49m \u001b[38;5;28;01mas\u001b[39;00m image:\n\u001b[0;32m   1526\u001b[0m     \u001b[38;5;28;01mreturn\u001b[39;00m (_pil_png_to_float_array(image)\n\u001b[0;32m   1527\u001b[0m             \u001b[38;5;28;01mif\u001b[39;00m \u001b[38;5;28misinstance\u001b[39m(image, PIL\u001b[38;5;241m.\u001b[39mPngImagePlugin\u001b[38;5;241m.\u001b[39mPngImageFile) \u001b[38;5;28;01melse\u001b[39;00m\n\u001b[0;32m   1528\u001b[0m             pil_to_array(image))\n",
      "File \u001b[1;32m~\\AppData\\Roaming\\Python\\Python312\\site-packages\\PIL\\Image.py:3247\u001b[0m, in \u001b[0;36mopen\u001b[1;34m(fp, mode, formats)\u001b[0m\n\u001b[0;32m   3244\u001b[0m     filename \u001b[38;5;241m=\u001b[39m fp\n\u001b[0;32m   3246\u001b[0m \u001b[38;5;28;01mif\u001b[39;00m filename:\n\u001b[1;32m-> 3247\u001b[0m     fp \u001b[38;5;241m=\u001b[39m \u001b[43mbuiltins\u001b[49m\u001b[38;5;241;43m.\u001b[39;49m\u001b[43mopen\u001b[49m\u001b[43m(\u001b[49m\u001b[43mfilename\u001b[49m\u001b[43m,\u001b[49m\u001b[43m \u001b[49m\u001b[38;5;124;43m\"\u001b[39;49m\u001b[38;5;124;43mrb\u001b[39;49m\u001b[38;5;124;43m\"\u001b[39;49m\u001b[43m)\u001b[49m\n\u001b[0;32m   3248\u001b[0m     exclusive_fp \u001b[38;5;241m=\u001b[39m \u001b[38;5;28;01mTrue\u001b[39;00m\n\u001b[0;32m   3250\u001b[0m \u001b[38;5;28;01mtry\u001b[39;00m:\n",
      "\u001b[1;31mPermissionError\u001b[0m: [Errno 13] Permission denied: 'C:\\\\Users\\\\Nandu Gatla\\\\Downloads\\\\parkinsons_dataset project\\\\parkinsons_dataset'"
     ]
    }
   ],
   "source": [
    "import matplotlib.pyplot as plt\n",
    "import matplotlib.image as mpimg\n",
    "import os\n",
    "\n",
    "image_path = os.path.join(extraction_path, r'C:\\Users\\Nandu Gatla\\Downloads\\parkinsons_dataset project\\parkinsons_dataset')  # Replace with actual image path\n",
    "img = mpimg.imread(image_path)\n",
    "plt.imshow(img)\n",
    "plt.axis('off')\n",
    "plt.show()"
   ]
  },
  {
   "cell_type": "code",
   "execution_count": 1,
   "metadata": {
    "colab": {
     "base_uri": "https://localhost:8080/"
    },
    "id": "xhPZu9wtfGVU",
    "outputId": "7cbd0244-4c9e-4a29-8ace-a49973f8bf02"
   },
   "outputs": [
    {
     "name": "stdout",
     "output_type": "stream",
     "text": [
      "['ep2d_diff_3scan_trace_p2_ADC_DFC_001.png', 'ep2d_diff_3scan_trace_p2_ADC_DFC_002.png', 'ep2d_diff_3scan_trace_p2_ADC_DFC_003.png', 'ep2d_diff_3scan_trace_p2_ADC_DFC_004.png', 'ep2d_diff_3scan_trace_p2_ADC_DFC_005.png', 'ep2d_diff_3scan_trace_p2_ADC_DFC_006.png', 'ep2d_diff_3scan_trace_p2_ADC_DFC_007.png', 'ep2d_diff_3scan_trace_p2_ADC_DFC_008.png', 'ep2d_diff_3scan_trace_p2_ADC_DFC_009.png', 'ep2d_diff_3scan_trace_p2_ADC_DFC_010.png', 'ep2d_diff_3scan_trace_p2_ADC_DFC_011.png', 'ep2d_diff_3scan_trace_p2_ADC_DFC_012.png', 'ep2d_diff_3scan_trace_p2_ADC_DFC_013.png', 'ep2d_diff_3scan_trace_p2_ADC_DFC_014.png', 'ep2d_diff_3scan_trace_p2_ADC_DFC_015.png', 'ep2d_diff_3scan_trace_p2_ADC_DFC_016.png', 'ep2d_diff_3scan_trace_p2_ADC_DFC_017.png', 'ep2d_diff_3scan_trace_p2_ADC_DFC_018.png', 'ep2d_diff_3scan_trace_p2_ADC_DFC_019.png', 'ep2d_diff_3scan_trace_p2_ADC_DFC_020.png', 'ep2d_diff_3scan_trace_p2_ADC_DFC_021.png', 'ep2d_diff_3scan_trace_p2_ADC_DFC_022.png', 'ep2d_diff_3scan_trace_p2_ADC_DFC_023.png', 'ep2d_diff_3scan_trace_p2_ADC_DFC_024.png', 'ep2d_diff_3scan_trace_p2_ADC_DFC_025.png', 'ep2d_diff_3scan_trace_p2_ADC_DFC_026.png', 'ep2d_diff_3scan_trace_p2_ADC_DFC_027.png', 'ep2d_diff_3scan_trace_p2_ADC_DFC_028.png', 'ep2d_diff_3scan_trace_p2_ADC_DFC_029.png', 'ep2d_diff_3scan_trace_p2_ADC_DFC_030.png', 'ep2d_diff_3scan_trace_p2_TRACEW_DFC_001.png', 'ep2d_diff_3scan_trace_p2_TRACEW_DFC_002.png', 'ep2d_diff_3scan_trace_p2_TRACEW_DFC_003.png', 'ep2d_diff_3scan_trace_p2_TRACEW_DFC_004.png', 'ep2d_diff_3scan_trace_p2_TRACEW_DFC_005.png', 'ep2d_diff_3scan_trace_p2_TRACEW_DFC_006.png', 'ep2d_diff_3scan_trace_p2_TRACEW_DFC_007.png', 'ep2d_diff_3scan_trace_p2_TRACEW_DFC_008.png', 'ep2d_diff_3scan_trace_p2_TRACEW_DFC_009.png', 'ep2d_diff_3scan_trace_p2_TRACEW_DFC_010.png', 'ep2d_diff_3scan_trace_p2_TRACEW_DFC_011.png', 'ep2d_diff_3scan_trace_p2_TRACEW_DFC_012.png', 'ep2d_diff_3scan_trace_p2_TRACEW_DFC_013.png', 'ep2d_diff_3scan_trace_p2_TRACEW_DFC_014.png', 'ep2d_diff_3scan_trace_p2_TRACEW_DFC_015.png', 'ep2d_diff_3scan_trace_p2_TRACEW_DFC_016.png', 'ep2d_diff_3scan_trace_p2_TRACEW_DFC_017.png', 'ep2d_diff_3scan_trace_p2_TRACEW_DFC_018.png', 'ep2d_diff_3scan_trace_p2_TRACEW_DFC_019.png', 'ep2d_diff_3scan_trace_p2_TRACEW_DFC_020.png', 'ep2d_diff_3scan_trace_p2_TRACEW_DFC_021.png', 'ep2d_diff_3scan_trace_p2_TRACEW_DFC_022.png', 'ep2d_diff_3scan_trace_p2_TRACEW_DFC_023.png', 'ep2d_diff_3scan_trace_p2_TRACEW_DFC_024.png', 'ep2d_diff_3scan_trace_p2_TRACEW_DFC_025.png', 'ep2d_diff_3scan_trace_p2_TRACEW_DFC_026.png', 'ep2d_diff_3scan_trace_p2_TRACEW_DFC_027.png', 'ep2d_diff_3scan_trace_p2_TRACEW_DFC_028.png', 'ep2d_diff_3scan_trace_p2_TRACEW_DFC_029.png', 'ep2d_diff_3scan_trace_p2_TRACEW_DFC_030.png', 'ep2d_diff_3scan_trace_p2_TRACEW_DFC_031.png', 'ep2d_diff_3scan_trace_p2_TRACEW_DFC_032.png', 'ep2d_diff_3scan_trace_p2_TRACEW_DFC_033.png', 'ep2d_diff_3scan_trace_p2_TRACEW_DFC_034.png', 'ep2d_diff_3scan_trace_p2_TRACEW_DFC_035.png', 'ep2d_diff_3scan_trace_p2_TRACEW_DFC_036.png', 'ep2d_diff_3scan_trace_p2_TRACEW_DFC_037.png', 'ep2d_diff_3scan_trace_p2_TRACEW_DFC_038.png', 'ep2d_diff_3scan_trace_p2_TRACEW_DFC_039.png', 'ep2d_diff_3scan_trace_p2_TRACEW_DFC_040.png', 'ep2d_diff_3scan_trace_p2_TRACEW_DFC_041.png', 'ep2d_diff_3scan_trace_p2_TRACEW_DFC_042.png', 'ep2d_diff_3scan_trace_p2_TRACEW_DFC_043.png', 'ep2d_diff_3scan_trace_p2_TRACEW_DFC_044.png', 'ep2d_diff_3scan_trace_p2_TRACEW_DFC_045.png', 'ep2d_diff_3scan_trace_p2_TRACEW_DFC_046.png', 'ep2d_diff_3scan_trace_p2_TRACEW_DFC_047.png', 'ep2d_diff_3scan_trace_p2_TRACEW_DFC_048.png', 'ep2d_diff_3scan_trace_p2_TRACEW_DFC_049.png', 'ep2d_diff_3scan_trace_p2_TRACEW_DFC_050.png', 'ep2d_diff_3scan_trace_p2_TRACEW_DFC_051.png', 'ep2d_diff_3scan_trace_p2_TRACEW_DFC_052.png', 'ep2d_diff_3scan_trace_p2_TRACEW_DFC_053.png', 'ep2d_diff_3scan_trace_p2_TRACEW_DFC_054.png', 'ep2d_diff_3scan_trace_p2_TRACEW_DFC_055.png', 'ep2d_diff_3scan_trace_p2_TRACEW_DFC_056.png', 'ep2d_diff_3scan_trace_p2_TRACEW_DFC_057.png', 'ep2d_diff_3scan_trace_p2_TRACEW_DFC_058.png', 'ep2d_diff_3scan_trace_p2_TRACEW_DFC_059.png', 'ep2d_diff_3scan_trace_p2_TRACEW_DFC_060.png', 'localizer_001.png', 'localizer_002.png', 'localizer_003.png', 'Mag_Images_001.png', 'Mag_Images_002.png', 'Mag_Images_003.png', 'Mag_Images_004.png', 'Mag_Images_005.png', 'Mag_Images_006.png', 'Mag_Images_007.png', 'Mag_Images_008.png', 'Mag_Images_009.png', 'Mag_Images_010.png', 'Mag_Images_011.png', 'Mag_Images_012.png', 'Mag_Images_013.png', 'Mag_Images_014.png', 'Mag_Images_015.png', 'Mag_Images_016.png', 'Mag_Images_017.png', 'Mag_Images_018.png', 'Mag_Images_019.png', 'Mag_Images_020.png', 'Mag_Images_021.png', 'Mag_Images_022.png', 'Mag_Images_023.png', 'Mag_Images_024.png', 'Mag_Images_025.png', 'Mag_Images_026.png', 'Mag_Images_027.png', 'Mag_Images_028.png', 'Mag_Images_029.png', 'Mag_Images_030.png', 'Mag_Images_031.png', 'Mag_Images_032.png', 'Mag_Images_033.png', 'Mag_Images_034.png', 'Mag_Images_035.png', 'Mag_Images_036.png', 'Mag_Images_037.png', 'Mag_Images_038.png', 'Mag_Images_039.png', 'Mag_Images_040.png', 'Mag_Images_041.png', 'Mag_Images_042.png', 'Mag_Images_043.png', 'Mag_Images_044.png', 'Mag_Images_045.png', 'Mag_Images_046.png', 'Mag_Images_047.png', 'Mag_Images_048.png', 'Mag_Images_049.png', 'Mag_Images_050.png', 'Mag_Images_051.png', 'Mag_Images_052.png', 'Mag_Images_053.png', 'Mag_Images_054.png', 'Mag_Images_055.png', 'Mag_Images_056.png', 'Mag_Images_057.png', 'Mag_Images_058.png', 'Mag_Images_059.png', 'Mag_Images_060.png', 'Mag_Images_061.png', 'Mag_Images_062.png', 'Mag_Images_063.png', 'Mag_Images_064.png', 'Mag_Images_065.png', 'Mag_Images_066.png', 'Mag_Images_067.png', 'Mag_Images_068.png', 'Mag_Images_069.png', 'Mag_Images_070.png', 'Mag_Images_071.png', 'Mag_Images_072.png', 'mIP_Images(SW)_001.png', 'mIP_Images(SW)_002.png', 'mIP_Images(SW)_003.png', 'mIP_Images(SW)_004.png', 'mIP_Images(SW)_005.png', 'mIP_Images(SW)_006.png', 'mIP_Images(SW)_007.png', 'mIP_Images(SW)_008.png', 'mIP_Images(SW)_009.png', 'mIP_Images(SW)_010.png', 'mIP_Images(SW)_011.png', 'mIP_Images(SW)_012.png', 'mIP_Images(SW)_013.png', 'mIP_Images(SW)_014.png', 'mIP_Images(SW)_015.png', 'mIP_Images(SW)_016.png', 'mIP_Images(SW)_017.png', 'mIP_Images(SW)_018.png', 'mIP_Images(SW)_019.png', 'mIP_Images(SW)_020.png', 'mIP_Images(SW)_021.png', 'mIP_Images(SW)_022.png', 'mIP_Images(SW)_023.png', 'mIP_Images(SW)_024.png', 'mIP_Images(SW)_025.png', 'mIP_Images(SW)_026.png', 'mIP_Images(SW)_027.png', 'mIP_Images(SW)_028.png', 'mIP_Images(SW)_029.png', 'mIP_Images(SW)_030.png', 'mIP_Images(SW)_031.png', 'mIP_Images(SW)_032.png', 'mIP_Images(SW)_033.png', 'mIP_Images(SW)_034.png', 'mIP_Images(SW)_035.png', 'mIP_Images(SW)_036.png', 'mIP_Images(SW)_037.png', 'mIP_Images(SW)_038.png', 'mIP_Images(SW)_039.png', 'mIP_Images(SW)_040.png', 'mIP_Images(SW)_041.png', 'mIP_Images(SW)_042.png', 'mIP_Images(SW)_043.png', 'mIP_Images(SW)_044.png', 'mIP_Images(SW)_045.png', 'mIP_Images(SW)_046.png', 'mIP_Images(SW)_047.png', 'mIP_Images(SW)_048.png', 'mIP_Images(SW)_049.png', 'mIP_Images(SW)_050.png', 'mIP_Images(SW)_051.png', 'mIP_Images(SW)_052.png', 'mIP_Images(SW)_053.png', 'mIP_Images(SW)_054.png', 'mIP_Images(SW)_055.png', 'mIP_Images(SW)_056.png', 'mIP_Images(SW)_057.png', 'mIP_Images(SW)_058.png', 'mIP_Images(SW)_059.png', 'mIP_Images(SW)_060.png', 'mIP_Images(SW)_061.png', 'mIP_Images(SW)_062.png', 'mIP_Images(SW)_063.png', 'mIP_Images(SW)_064.png', 'mIP_Images(SW)_065.png', 'Pha_Images_001.png', 'Pha_Images_002.png', 'Pha_Images_003.png', 'Pha_Images_004.png', 'Pha_Images_005.png', 'Pha_Images_006.png', 'Pha_Images_007.png', 'Pha_Images_008.png', 'Pha_Images_009.png', 'Pha_Images_010.png', 'Pha_Images_011.png', 'Pha_Images_012.png', 'Pha_Images_013.png', 'Pha_Images_014.png', 'Pha_Images_015.png', 'Pha_Images_016.png', 'Pha_Images_017.png', 'Pha_Images_018.png', 'Pha_Images_019.png', 'Pha_Images_020.png', 'Pha_Images_021.png', 'Pha_Images_022.png', 'Pha_Images_023.png', 'Pha_Images_024.png', 'Pha_Images_025.png', 'Pha_Images_026.png', 'Pha_Images_027.png', 'Pha_Images_028.png', 'Pha_Images_029.png', 'Pha_Images_030.png', 'Pha_Images_031.png', 'Pha_Images_032.png', 'Pha_Images_033.png', 'Pha_Images_034.png', 'Pha_Images_035.png', 'Pha_Images_036.png', 'Pha_Images_037.png', 'Pha_Images_038.png', 'Pha_Images_039.png', 'Pha_Images_040.png', 'Pha_Images_041.png', 'Pha_Images_042.png', 'Pha_Images_043.png', 'Pha_Images_044.png', 'Pha_Images_045.png', 'Pha_Images_046.png', 'Pha_Images_047.png', 'Pha_Images_048.png', 'Pha_Images_049.png', 'Pha_Images_050.png', 'Pha_Images_051.png', 'Pha_Images_052.png', 'Pha_Images_053.png', 'Pha_Images_054.png', 'Pha_Images_055.png', 'Pha_Images_056.png', 'Pha_Images_057.png', 'Pha_Images_058.png', 'Pha_Images_059.png', 'Pha_Images_060.png', 'Pha_Images_061.png', 'Pha_Images_062.png', 'Pha_Images_063.png', 'Pha_Images_064.png', 'Pha_Images_065.png', 'Pha_Images_066.png', 'Pha_Images_067.png', 'Pha_Images_068.png', 'Pha_Images_069.png', 'Pha_Images_070.png', 'Pha_Images_071.png', 'Pha_Images_072.png', 'SWI_Images_001.png', 'SWI_Images_002.png', 'SWI_Images_003.png', 'SWI_Images_004.png', 'SWI_Images_005.png', 'SWI_Images_006.png', 'SWI_Images_007.png', 'SWI_Images_008.png', 'SWI_Images_009.png', 'SWI_Images_010.png', 'SWI_Images_011.png', 'SWI_Images_012.png', 'SWI_Images_013.png', 'SWI_Images_014.png', 'SWI_Images_015.png', 'SWI_Images_016.png', 'SWI_Images_017.png', 'SWI_Images_018.png', 'SWI_Images_019.png', 'SWI_Images_020.png', 'SWI_Images_021.png', 'SWI_Images_022.png', 'SWI_Images_023.png', 'SWI_Images_024.png', 'SWI_Images_025.png', 'SWI_Images_026.png', 'SWI_Images_027.png', 'SWI_Images_028.png', 'SWI_Images_029.png', 'SWI_Images_030.png', 'SWI_Images_031.png', 'SWI_Images_032.png', 'SWI_Images_033.png', 'SWI_Images_034.png', 'SWI_Images_035.png', 'SWI_Images_036.png', 'SWI_Images_037.png', 'SWI_Images_038.png', 'SWI_Images_039.png', 'SWI_Images_040.png', 'SWI_Images_041.png', 'SWI_Images_042.png', 'SWI_Images_043.png', 'SWI_Images_044.png', 'SWI_Images_045.png', 'SWI_Images_046.png', 'SWI_Images_047.png', 'SWI_Images_048.png', 'SWI_Images_049.png', 'SWI_Images_050.png', 'SWI_Images_051.png', 'SWI_Images_052.png', 'SWI_Images_053.png', 'SWI_Images_054.png', 'SWI_Images_055.png', 'SWI_Images_056.png', 'SWI_Images_057.png', 'SWI_Images_058.png', 'SWI_Images_059.png', 'SWI_Images_060.png', 'SWI_Images_061.png', 'SWI_Images_062.png', 'SWI_Images_063.png', 'SWI_Images_064.png', 'SWI_Images_065.png', 'SWI_Images_066.png', 'SWI_Images_067.png', 'SWI_Images_068.png', 'SWI_Images_069.png', 'SWI_Images_070.png', 'SWI_Images_071.png', 'SWI_Images_072.png', 't1_fl3d_sag_p4_iso_1.0_001.png', 't1_fl3d_sag_p4_iso_1.0_002.png', 't1_fl3d_sag_p4_iso_1.0_003.png', 't1_fl3d_sag_p4_iso_1.0_004.png', 't1_fl3d_sag_p4_iso_1.0_005.png', 't1_fl3d_sag_p4_iso_1.0_006.png', 't1_fl3d_sag_p4_iso_1.0_007.png', 't1_fl3d_sag_p4_iso_1.0_008.png', 't1_fl3d_sag_p4_iso_1.0_009.png', 't1_fl3d_sag_p4_iso_1.0_010.png', 't1_fl3d_sag_p4_iso_1.0_011.png', 't1_fl3d_sag_p4_iso_1.0_012.png', 't1_fl3d_sag_p4_iso_1.0_013.png', 't1_fl3d_sag_p4_iso_1.0_014.png', 't1_fl3d_sag_p4_iso_1.0_015.png', 't1_fl3d_sag_p4_iso_1.0_016.png', 't1_fl3d_sag_p4_iso_1.0_017.png', 't1_fl3d_sag_p4_iso_1.0_018.png', 't1_fl3d_sag_p4_iso_1.0_019.png', 't1_fl3d_sag_p4_iso_1.0_020.png', 't1_fl3d_sag_p4_iso_1.0_021.png', 't1_fl3d_sag_p4_iso_1.0_022.png', 't1_fl3d_sag_p4_iso_1.0_023.png', 't1_fl3d_sag_p4_iso_1.0_024.png', 't1_fl3d_sag_p4_iso_1.0_025.png', 't1_fl3d_sag_p4_iso_1.0_026.png', 't1_fl3d_sag_p4_iso_1.0_027.png', 't1_fl3d_sag_p4_iso_1.0_028.png', 't1_fl3d_sag_p4_iso_1.0_029.png', 't1_fl3d_sag_p4_iso_1.0_030.png', 't1_fl3d_sag_p4_iso_1.0_031.png', 't1_fl3d_sag_p4_iso_1.0_032.png', 't1_fl3d_sag_p4_iso_1.0_033.png', 't1_fl3d_sag_p4_iso_1.0_034.png', 't1_fl3d_sag_p4_iso_1.0_035.png', 't1_fl3d_sag_p4_iso_1.0_036.png', 't1_fl3d_sag_p4_iso_1.0_037.png', 't1_fl3d_sag_p4_iso_1.0_038.png', 't1_fl3d_sag_p4_iso_1.0_039.png', 't1_fl3d_sag_p4_iso_1.0_040.png', 't1_fl3d_sag_p4_iso_1.0_041.png', 't1_fl3d_sag_p4_iso_1.0_042.png', 't1_fl3d_sag_p4_iso_1.0_043.png', 't1_fl3d_sag_p4_iso_1.0_044.png', 't1_fl3d_sag_p4_iso_1.0_045.png', 't1_fl3d_sag_p4_iso_1.0_046.png', 't1_fl3d_sag_p4_iso_1.0_047.png', 't1_fl3d_sag_p4_iso_1.0_048.png', 't1_fl3d_sag_p4_iso_1.0_049.png', 't1_fl3d_sag_p4_iso_1.0_050.png', 't1_fl3d_sag_p4_iso_1.0_051.png', 't1_fl3d_sag_p4_iso_1.0_052.png', 't1_fl3d_sag_p4_iso_1.0_053.png', 't1_fl3d_sag_p4_iso_1.0_054.png', 't1_fl3d_sag_p4_iso_1.0_055.png', 't1_fl3d_sag_p4_iso_1.0_056.png', 't1_fl3d_sag_p4_iso_1.0_057.png', 't1_fl3d_sag_p4_iso_1.0_058.png', 't1_fl3d_sag_p4_iso_1.0_059.png', 't1_fl3d_sag_p4_iso_1.0_060.png', 't1_fl3d_sag_p4_iso_1.0_061.png', 't1_fl3d_sag_p4_iso_1.0_062.png', 't1_fl3d_sag_p4_iso_1.0_063.png', 't1_fl3d_sag_p4_iso_1.0_064.png', 't1_fl3d_sag_p4_iso_1.0_065.png', 't1_fl3d_sag_p4_iso_1.0_066.png', 't1_fl3d_sag_p4_iso_1.0_067.png', 't1_fl3d_sag_p4_iso_1.0_068.png', 't1_fl3d_sag_p4_iso_1.0_069.png', 't1_fl3d_sag_p4_iso_1.0_070.png', 't1_fl3d_sag_p4_iso_1.0_071.png', 't1_fl3d_sag_p4_iso_1.0_072.png', 't1_fl3d_sag_p4_iso_1.0_073.png', 't1_fl3d_sag_p4_iso_1.0_074.png', 't1_fl3d_sag_p4_iso_1.0_075.png', 't1_fl3d_sag_p4_iso_1.0_076.png', 't1_fl3d_sag_p4_iso_1.0_077.png', 't1_fl3d_sag_p4_iso_1.0_078.png', 't1_fl3d_sag_p4_iso_1.0_079.png', 't1_fl3d_sag_p4_iso_1.0_080.png', 't1_fl3d_sag_p4_iso_1.0_081.png', 't1_fl3d_sag_p4_iso_1.0_082.png', 't1_fl3d_sag_p4_iso_1.0_083.png', 't1_fl3d_sag_p4_iso_1.0_084.png', 't1_fl3d_sag_p4_iso_1.0_085.png', 't1_fl3d_sag_p4_iso_1.0_086.png', 't1_fl3d_sag_p4_iso_1.0_087.png', 't1_fl3d_sag_p4_iso_1.0_088.png', 't1_fl3d_sag_p4_iso_1.0_089.png', 't1_fl3d_sag_p4_iso_1.0_090.png', 't1_fl3d_sag_p4_iso_1.0_091.png', 't1_fl3d_sag_p4_iso_1.0_092.png', 't1_fl3d_sag_p4_iso_1.0_093.png', 't1_fl3d_sag_p4_iso_1.0_094.png', 't1_fl3d_sag_p4_iso_1.0_095.png', 't1_fl3d_sag_p4_iso_1.0_096.png', 't1_fl3d_sag_p4_iso_1.0_097.png', 't1_fl3d_sag_p4_iso_1.0_098.png', 't1_fl3d_sag_p4_iso_1.0_099.png', 't1_fl3d_sag_p4_iso_1.0_100.png', 't1_fl3d_sag_p4_iso_1.0_101.png', 't1_fl3d_sag_p4_iso_1.0_102.png', 't1_fl3d_sag_p4_iso_1.0_103.png', 't1_fl3d_sag_p4_iso_1.0_104.png', 't1_fl3d_sag_p4_iso_1.0_105.png', 't1_fl3d_sag_p4_iso_1.0_106.png', 't1_fl3d_sag_p4_iso_1.0_107.png', 't1_fl3d_sag_p4_iso_1.0_108.png', 't1_fl3d_sag_p4_iso_1.0_109.png', 't1_fl3d_sag_p4_iso_1.0_110.png', 't1_fl3d_sag_p4_iso_1.0_111.png', 't1_fl3d_sag_p4_iso_1.0_112.png', 't1_fl3d_sag_p4_iso_1.0_113.png', 't1_fl3d_sag_p4_iso_1.0_114.png', 't1_fl3d_sag_p4_iso_1.0_115.png', 't1_fl3d_sag_p4_iso_1.0_116.png', 't1_fl3d_sag_p4_iso_1.0_117.png', 't1_fl3d_sag_p4_iso_1.0_118.png', 't1_fl3d_sag_p4_iso_1.0_119.png', 't1_fl3d_sag_p4_iso_1.0_120.png', 't1_fl3d_sag_p4_iso_1.0_121.png', 't1_fl3d_sag_p4_iso_1.0_122.png', 't1_fl3d_sag_p4_iso_1.0_123.png', 't1_fl3d_sag_p4_iso_1.0_124.png', 't1_fl3d_sag_p4_iso_1.0_125.png', 't1_fl3d_sag_p4_iso_1.0_126.png', 't1_fl3d_sag_p4_iso_1.0_127.png', 't1_fl3d_sag_p4_iso_1.0_128.png', 't1_fl3d_sag_p4_iso_1.0_129.png', 't1_fl3d_sag_p4_iso_1.0_130.png', 't1_fl3d_sag_p4_iso_1.0_131.png', 't1_fl3d_sag_p4_iso_1.0_132.png', 't1_fl3d_sag_p4_iso_1.0_133.png', 't1_fl3d_sag_p4_iso_1.0_134.png', 't1_fl3d_sag_p4_iso_1.0_135.png', 't1_fl3d_sag_p4_iso_1.0_136.png', 't1_fl3d_sag_p4_iso_1.0_137.png', 't1_fl3d_sag_p4_iso_1.0_138.png', 't1_fl3d_sag_p4_iso_1.0_139.png', 't1_fl3d_sag_p4_iso_1.0_140.png', 't1_fl3d_sag_p4_iso_1.0_141.png', 't1_fl3d_sag_p4_iso_1.0_142.png', 't1_fl3d_sag_p4_iso_1.0_143.png', 't1_fl3d_sag_p4_iso_1.0_144.png', 't1_fl3d_sag_p4_iso_1.0_145.png', 't1_fl3d_sag_p4_iso_1.0_146.png', 't1_fl3d_sag_p4_iso_1.0_147.png', 't1_fl3d_sag_p4_iso_1.0_148.png', 't1_fl3d_sag_p4_iso_1.0_149.png', 't1_fl3d_sag_p4_iso_1.0_150.png', 't1_fl3d_sag_p4_iso_1.0_151.png', 't1_fl3d_sag_p4_iso_1.0_152.png', 't1_fl3d_sag_p4_iso_1.0_153.png', 't1_fl3d_sag_p4_iso_1.0_154.png', 't1_fl3d_sag_p4_iso_1.0_155.png', 't1_fl3d_sag_p4_iso_1.0_156.png', 't1_fl3d_sag_p4_iso_1.0_157.png', 't1_fl3d_sag_p4_iso_1.0_158.png', 't1_fl3d_sag_p4_iso_1.0_159.png', 't1_fl3d_sag_p4_iso_1.0_160.png', 't1_fl3d_sag_p4_iso_1.0_161.png', 't1_fl3d_sag_p4_iso_1.0_162.png', 't1_fl3d_sag_p4_iso_1.0_163.png', 't1_fl3d_sag_p4_iso_1.0_164.png', 't1_fl3d_sag_p4_iso_1.0_165.png', 't1_fl3d_sag_p4_iso_1.0_166.png', 't1_fl3d_sag_p4_iso_1.0_167.png', 't1_fl3d_sag_p4_iso_1.0_168.png', 't1_fl3d_sag_p4_iso_1.0_169.png', 't1_fl3d_sag_p4_iso_1.0_170.png', 't1_fl3d_sag_p4_iso_1.0_171.png', 't1_fl3d_sag_p4_iso_1.0_172.png', 't1_fl3d_sag_p4_iso_1.0_173.png', 't1_fl3d_sag_p4_iso_1.0_174.png', 't1_fl3d_sag_p4_iso_1.0_175.png', 't1_fl3d_sag_p4_iso_1.0_176.png', 't2_tirm_tra_dark-fluid_001.png', 't2_tirm_tra_dark-fluid_002.png', 't2_tirm_tra_dark-fluid_003.png', 't2_tirm_tra_dark-fluid_004.png', 't2_tirm_tra_dark-fluid_005.png', 't2_tirm_tra_dark-fluid_006.png', 't2_tirm_tra_dark-fluid_007.png', 't2_tirm_tra_dark-fluid_008.png', 't2_tirm_tra_dark-fluid_009.png', 't2_tirm_tra_dark-fluid_010.png', 't2_tirm_tra_dark-fluid_011.png', 't2_tirm_tra_dark-fluid_012.png', 't2_tirm_tra_dark-fluid_013.png', 't2_tirm_tra_dark-fluid_014.png', 't2_tirm_tra_dark-fluid_015.png', 't2_tirm_tra_dark-fluid_016.png', 't2_tirm_tra_dark-fluid_017.png', 't2_tirm_tra_dark-fluid_018.png', 't2_tirm_tra_dark-fluid_019.png', 't2_tirm_tra_dark-fluid_020.png', 't2_tirm_tra_dark-fluid_021.png', 't2_tirm_tra_dark-fluid_022.png', 't2_tirm_tra_dark-fluid_023.png', 't2_tirm_tra_dark-fluid_024.png', 't2_tirm_tra_dark-fluid_025.png', 't2_tirm_tra_dark-fluid_026.png', 't2_tirm_tra_dark-fluid_027.png', 't2_tirm_tra_dark-fluid_028.png', 't2_tirm_tra_dark-fluid_029.png', 't2_tirm_tra_dark-fluid_030.png', 't2_tse_tra_001.png', 't2_tse_tra_002.png', 't2_tse_tra_003.png', 't2_tse_tra_004.png', 't2_tse_tra_005.png', 't2_tse_tra_006.png', 't2_tse_tra_007.png', 't2_tse_tra_008.png', 't2_tse_tra_009.png', 't2_tse_tra_010.png', 't2_tse_tra_011.png', 't2_tse_tra_012.png', 't2_tse_tra_013.png', 't2_tse_tra_014.png', 't2_tse_tra_015.png', 't2_tse_tra_016.png', 't2_tse_tra_017.png', 't2_tse_tra_018.png', 't2_tse_tra_019.png', 't2_tse_tra_020.png', 't2_tse_tra_021.png', 't2_tse_tra_022.png', 't2_tse_tra_023.png', 't2_tse_tra_024.png', 't2_tse_tra_025.png', 't2_tse_tra_026.png', 't2_tse_tra_027.png', 't2_tse_tra_028.png', 't2_tse_tra_029.png', 't2_tse_tra_030.png']\n",
      "610\n"
     ]
    }
   ],
   "source": [
    "import os\n",
    "normal = os.listdir(r'C:\\Users\\Nandu Gatla\\Downloads\\parkinsons_dataset project\\parkinsons_dataset\\normal')\n",
    "print(normal)\n",
    "print(len(normal))"
   ]
  },
  {
   "cell_type": "code",
   "execution_count": 2,
   "metadata": {
    "colab": {
     "base_uri": "https://localhost:8080/"
    },
    "id": "bgF2RbvIfrF_",
    "outputId": "35c25148-306a-4948-dfdb-d73cd559afb8"
   },
   "outputs": [
    {
     "name": "stdout",
     "output_type": "stream",
     "text": [
      "['dReg_-_sDW_SSh_SENSE_001.png', 'dReg_-_sDW_SSh_SENSE_002.png', 'dReg_-_sDW_SSh_SENSE_003.png', 'dReg_-_sDW_SSh_SENSE_004.png', 'dReg_-_sDW_SSh_SENSE_005.png', 'dReg_-_sDW_SSh_SENSE_006.png', 'dReg_-_sDW_SSh_SENSE_007.png', 'dReg_-_sDW_SSh_SENSE_008.png', 'dReg_-_sDW_SSh_SENSE_009.png', 'dReg_-_sDW_SSh_SENSE_010.png', 'dReg_-_sDW_SSh_SENSE_011.png', 'dReg_-_sDW_SSh_SENSE_012.png', 'dReg_-_sDW_SSh_SENSE_013.png', 'dReg_-_sDW_SSh_SENSE_014.png', 'dReg_-_sDW_SSh_SENSE_015.png', 'dReg_-_sDW_SSh_SENSE_016.png', 'dReg_-_sDW_SSh_SENSE_017.png', 'dReg_-_sDW_SSh_SENSE_018.png', 'dReg_-_sDW_SSh_SENSE_019.png', 'dReg_-_sDW_SSh_SENSE_020.png', 'dReg_-_sDW_SSh_SENSE_021.png', 'dReg_-_sDW_SSh_SENSE_022.png', 'DUAL_TSE_001.png', 'DUAL_TSE_002.png', 'DUAL_TSE_003.png', 'DUAL_TSE_004.png', 'DUAL_TSE_005.png', 'DUAL_TSE_006.png', 'DUAL_TSE_007.png', 'DUAL_TSE_008.png', 'DUAL_TSE_009.png', 'DUAL_TSE_010.png', 'DUAL_TSE_011.png', 'DUAL_TSE_012.png', 'DUAL_TSE_013.png', 'DUAL_TSE_014.png', 'DUAL_TSE_015.png', 'DUAL_TSE_016.png', 'DUAL_TSE_017.png', 'DUAL_TSE_018.png', 'DUAL_TSE_019.png', 'DUAL_TSE_020.png', 'DUAL_TSE_021.png', 'DUAL_TSE_022.png', 'DUAL_TSE_023.png', 'DUAL_TSE_024.png', 'DUAL_TSE_025.png', 'DUAL_TSE_026.png', 'DUAL_TSE_027.png', 'DUAL_TSE_028.png', 'DUAL_TSE_029.png', 'DUAL_TSE_030.png', 'DUAL_TSE_031.png', 'DUAL_TSE_032.png', 'DUAL_TSE_033.png', 'DUAL_TSE_034.png', 'DUAL_TSE_035.png', 'DUAL_TSE_036.png', 'DUAL_TSE_037.png', 'DUAL_TSE_038.png', 'DUAL_TSE_039.png', 'DUAL_TSE_040.png', 'DUAL_TSE_041.png', 'DUAL_TSE_042.png', 'DUAL_TSE_043.png', 'DUAL_TSE_044.png', 'Reg_-_sDW_SSh_SENSE_001.png', 'Reg_-_sDW_SSh_SENSE_002.png', 'Reg_-_sDW_SSh_SENSE_003.png', 'Reg_-_sDW_SSh_SENSE_004.png', 'Reg_-_sDW_SSh_SENSE_005.png', 'Reg_-_sDW_SSh_SENSE_006.png', 'Reg_-_sDW_SSh_SENSE_007.png', 'Reg_-_sDW_SSh_SENSE_008.png', 'Reg_-_sDW_SSh_SENSE_009.png', 'Reg_-_sDW_SSh_SENSE_010.png', 'Reg_-_sDW_SSh_SENSE_011.png', 'Reg_-_sDW_SSh_SENSE_012.png', 'Reg_-_sDW_SSh_SENSE_013.png', 'Reg_-_sDW_SSh_SENSE_014.png', 'Reg_-_sDW_SSh_SENSE_015.png', 'Reg_-_sDW_SSh_SENSE_016.png', 'Reg_-_sDW_SSh_SENSE_017.png', 'Reg_-_sDW_SSh_SENSE_018.png', 'Reg_-_sDW_SSh_SENSE_019.png', 'Reg_-_sDW_SSh_SENSE_020.png', 'Reg_-_sDW_SSh_SENSE_021.png', 'Reg_-_sDW_SSh_SENSE_022.png', 'Reg_-_sDW_SSh_SENSE_023.png', 'Reg_-_sDW_SSh_SENSE_024.png', 'Reg_-_sDW_SSh_SENSE_025.png', 'Reg_-_sDW_SSh_SENSE_026.png', 'Reg_-_sDW_SSh_SENSE_027.png', 'Reg_-_sDW_SSh_SENSE_028.png', 'Reg_-_sDW_SSh_SENSE_029.png', 'Reg_-_sDW_SSh_SENSE_030.png', 'Reg_-_sDW_SSh_SENSE_031.png', 'Reg_-_sDW_SSh_SENSE_032.png', 'Reg_-_sDW_SSh_SENSE_033.png', 'Reg_-_sDW_SSh_SENSE_034.png', 'Reg_-_sDW_SSh_SENSE_035.png', 'Reg_-_sDW_SSh_SENSE_036.png', 'Reg_-_sDW_SSh_SENSE_037.png', 'Reg_-_sDW_SSh_SENSE_038.png', 'Reg_-_sDW_SSh_SENSE_039.png', 'Reg_-_sDW_SSh_SENSE_040.png', 'Reg_-_sDW_SSh_SENSE_041.png', 'Reg_-_sDW_SSh_SENSE_042.png', 'Reg_-_sDW_SSh_SENSE_043.png', 'Reg_-_sDW_SSh_SENSE_044.png', 'sDW_SSh_001.png', 'sDW_SSh_002.png', 'sDW_SSh_003.png', 'sDW_SSh_004.png', 'sDW_SSh_005.png', 'sDW_SSh_006.png', 'sDW_SSh_007.png', 'sDW_SSh_008.png', 'sDW_SSh_009.png', 'sDW_SSh_010.png', 'sDW_SSh_011.png', 'sDW_SSh_012.png', 'sDW_SSh_013.png', 'sDW_SSh_014.png', 'sDW_SSh_015.png', 'sDW_SSh_016.png', 'sDW_SSh_017.png', 'sDW_SSh_018.png', 'sDW_SSh_019.png', 'sDW_SSh_020.png', 'sDW_SSh_021.png', 'sDW_SSh_022.png', 'sDW_SSh_023.png', 'sDW_SSh_024.png', 'sDW_SSh_025.png', 'sDW_SSh_026.png', 'sDW_SSh_027.png', 'sDW_SSh_028.png', 'sDW_SSh_029.png', 'sDW_SSh_030.png', 'sDW_SSh_031.png', 'sDW_SSh_032.png', 'sDW_SSh_033.png', 'sDW_SSh_034.png', 'sDW_SSh_035.png', 'sDW_SSh_036.png', 'sDW_SSh_037.png', 'sDW_SSh_038.png', 'sDW_SSh_039.png', 'sDW_SSh_040.png', 'sDW_SSh_041.png', 'sDW_SSh_042.png', 'sDW_SSh_043.png', 'sDW_SSh_044.png', 'Survey_SHC_001.png', 'Survey_SHC_002.png', 'Survey_SHC_003.png', 'Survey_SHC_004.png', 'Survey_SHC_005.png', 'T1W_FFE_001.png', 'T1W_FFE_002.png', 'T1W_FFE_003.png', 'T1W_FFE_004.png', 'T1W_FFE_005.png', 'T1W_FFE_006.png', 'T1W_FFE_007.png', 'T1W_FFE_008.png', 'T1W_FFE_009.png', 'T1W_FFE_010.png', 'T1W_FFE_011.png', 'T1W_FFE_012.png', 'T1W_FFE_013.png', 'T1W_FFE_014.png', 'T1W_FFE_015.png', 'T1W_FFE_016.png', 'T1W_FFE_017.png', 'T1W_FFE_018.png', 'T1W_FFE_019.png', 'T1W_FFE_020.png', 'T1W_FFE_021.png', 'T1W_FFE_022.png', 'T2W_FLAIR_001.png', 'T2W_FLAIR_002.png', 'T2W_FLAIR_003.png', 'T2W_FLAIR_004.png', 'T2W_FLAIR_005.png', 'T2W_FLAIR_006.png', 'T2W_FLAIR_007.png', 'T2W_FLAIR_008.png', 'T2W_FLAIR_009.png', 'T2W_FLAIR_010.png', 'T2W_FLAIR_011.png', 'T2W_FLAIR_012.png', 'T2W_FLAIR_013.png', 'T2W_FLAIR_014.png', 'T2W_FLAIR_015.png', 'T2W_FLAIR_016.png', 'T2W_FLAIR_017.png', 'T2W_FLAIR_018.png', 'T2W_FLAIR_019.png', 'T2W_FLAIR_020.png', 'T2W_FLAIR_021.png', 'T2W_FLAIR_022.png', 'T2W_TSE_001.png', 'T2W_TSE_002.png', 'T2W_TSE_003.png', 'T2W_TSE_004.png', 'T2W_TSE_005.png', 'T2W_TSE_006.png', 'T2W_TSE_007.png', 'T2W_TSE_008.png', 'T2W_TSE_009.png', 'T2W_TSE_010.png', 'T2W_TSE_011.png', 'T2W_TSE_012.png', 'T2W_TSE_013.png', 'T2W_TSE_014.png', 'T2W_TSE_015.png', 'T2W_TSE_016.png', 'T2W_TSE_017.png', 'T2W_TSE_018.png']\n",
      "221\n"
     ]
    }
   ],
   "source": [
    "import os\n",
    "parkinson = os.listdir(r'C:\\Users\\Nandu Gatla\\Downloads\\parkinsons_dataset project\\parkinsons_dataset\\parkinson')\n",
    "print(parkinson)\n",
    "print(len(parkinson))"
   ]
  },
  {
   "cell_type": "markdown",
   "metadata": {
    "id": "SvCy6wM1DB70"
   },
   "source": [
    "### Creating labels for Normal and Parkinson\n",
    "#### Parkinson-->1\n",
    "#### Normal-->0"
   ]
  },
  {
   "cell_type": "code",
   "execution_count": 3,
   "metadata": {
    "id": "aPi0WS2tf9J1"
   },
   "outputs": [],
   "source": [
    "normal_label=[0]*610\n",
    "\n",
    "parkinson_label=[1]*221"
   ]
  },
  {
   "cell_type": "code",
   "execution_count": 5,
   "metadata": {
    "colab": {
     "base_uri": "https://localhost:8080/"
    },
    "id": "qFLARH9zssTH",
    "outputId": "102b13ef-afdf-433e-a92c-74b27d9084da"
   },
   "outputs": [
    {
     "name": "stdout",
     "output_type": "stream",
     "text": [
      "[0, 0, 0, 0, 0, 0, 0, 0, 0, 0, 0, 0, 0, 0, 0, 0, 0, 0, 0, 0, 0, 0, 0, 0, 0, 0, 0, 0, 0, 0, 0, 0, 0, 0, 0, 0, 0, 0, 0, 0, 0, 0, 0, 0, 0, 0, 0, 0, 0, 0, 0, 0, 0, 0, 0, 0, 0, 0, 0, 0, 0, 0, 0, 0, 0, 0, 0, 0, 0, 0, 0, 0, 0, 0, 0, 0, 0, 0, 0, 0, 0, 0, 0, 0, 0, 0, 0, 0, 0, 0, 0, 0, 0, 0, 0, 0, 0, 0, 0, 0, 0, 0, 0, 0, 0, 0, 0, 0, 0, 0, 0, 0, 0, 0, 0, 0, 0, 0, 0, 0, 0, 0, 0, 0, 0, 0, 0, 0, 0, 0, 0, 0, 0, 0, 0, 0, 0, 0, 0, 0, 0, 0, 0, 0, 0, 0, 0, 0, 0, 0, 0, 0, 0, 0, 0, 0, 0, 0, 0, 0, 0, 0, 0, 0, 0, 0, 0, 0, 0, 0, 0, 0, 0, 0, 0, 0, 0, 0, 0, 0, 0, 0, 0, 0, 0, 0, 0, 0, 0, 0, 0, 0, 0, 0, 0, 0, 0, 0, 0, 0, 0, 0, 0, 0, 0, 0, 0, 0, 0, 0, 0, 0, 0, 0, 0, 0, 0, 0, 0, 0, 0, 0, 0, 0, 0, 0, 0, 0, 0, 0, 0, 0, 0, 0, 0, 0, 0, 0, 0, 0, 0, 0, 0, 0, 0, 0, 0, 0, 0, 0, 0, 0, 0, 0, 0, 0, 0, 0, 0, 0, 0, 0, 0, 0, 0, 0, 0, 0, 0, 0, 0, 0, 0, 0, 0, 0, 0, 0, 0, 0, 0, 0, 0, 0, 0, 0, 0, 0, 0, 0, 0, 0, 0, 0, 0, 0, 0, 0, 0, 0, 0, 0, 0, 0, 0, 0, 0, 0, 0, 0, 0, 0, 0, 0, 0, 0, 0, 0, 0, 0, 0, 0, 0, 0, 0, 0, 0, 0, 0, 0, 0, 0, 0, 0, 0, 0, 0, 0, 0, 0, 0, 0, 0, 0, 0, 0, 0, 0, 0, 0, 0, 0, 0, 0, 0, 0, 0, 0, 0, 0, 0, 0, 0, 0, 0, 0, 0, 0, 0, 0, 0, 0, 0, 0, 0, 0, 0, 0, 0, 0, 0, 0, 0, 0, 0, 0, 0, 0, 0, 0, 0, 0, 0, 0, 0, 0, 0, 0, 0, 0, 0, 0, 0, 0, 0, 0, 0, 0, 0, 0, 0, 0, 0, 0, 0, 0, 0, 0, 0, 0, 0, 0, 0, 0, 0, 0, 0, 0, 0, 0, 0, 0, 0, 0, 0, 0, 0, 0, 0, 0, 0, 0, 0, 0, 0, 0, 0, 0, 0, 0, 0, 0, 0, 0, 0, 0, 0, 0, 0, 0, 0, 0, 0, 0, 0, 0, 0, 0, 0, 0, 0, 0, 0, 0, 0, 0, 0, 0, 0, 0, 0, 0, 0, 0, 0, 0, 0, 0, 0, 0, 0, 0, 0, 0, 0, 0, 0, 0, 0, 0, 0, 0, 0, 0, 0, 0, 0, 0, 0, 0, 0, 0, 0, 0, 0, 0, 0, 0, 0, 0, 0, 0, 0, 0, 0, 0, 0, 0, 0, 0, 0, 0, 0, 0, 0, 0, 0, 0, 0, 0, 0, 0, 0, 0, 0, 0, 0, 0, 0, 0, 0, 0, 0, 0, 0, 0, 0, 0, 0, 0, 0, 0, 0, 0, 0, 0, 0, 0, 0, 0, 0, 0, 0, 0, 0, 0, 0, 0, 0, 0, 0, 0, 0, 0, 0, 0, 0, 0, 0, 0, 0, 0, 0, 0, 0, 0, 0, 0, 0, 0, 0, 0, 0, 0, 0, 0, 0, 0, 0, 0]\n",
      "[1, 1, 1, 1, 1, 1, 1, 1, 1, 1, 1, 1, 1, 1, 1, 1, 1, 1, 1, 1, 1, 1, 1, 1, 1, 1, 1, 1, 1, 1, 1, 1, 1, 1, 1, 1, 1, 1, 1, 1, 1, 1, 1, 1, 1, 1, 1, 1, 1, 1, 1, 1, 1, 1, 1, 1, 1, 1, 1, 1, 1, 1, 1, 1, 1, 1, 1, 1, 1, 1, 1, 1, 1, 1, 1, 1, 1, 1, 1, 1, 1, 1, 1, 1, 1, 1, 1, 1, 1, 1, 1, 1, 1, 1, 1, 1, 1, 1, 1, 1, 1, 1, 1, 1, 1, 1, 1, 1, 1, 1, 1, 1, 1, 1, 1, 1, 1, 1, 1, 1, 1, 1, 1, 1, 1, 1, 1, 1, 1, 1, 1, 1, 1, 1, 1, 1, 1, 1, 1, 1, 1, 1, 1, 1, 1, 1, 1, 1, 1, 1, 1, 1, 1, 1, 1, 1, 1, 1, 1, 1, 1, 1, 1, 1, 1, 1, 1, 1, 1, 1, 1, 1, 1, 1, 1, 1, 1, 1, 1, 1, 1, 1, 1, 1, 1, 1, 1, 1, 1, 1, 1, 1, 1, 1, 1, 1, 1, 1, 1, 1, 1, 1, 1, 1, 1, 1, 1, 1, 1, 1, 1, 1, 1, 1, 1, 1, 1, 1, 1, 1, 1]\n"
     ]
    }
   ],
   "source": [
    "print(normal_label)\n",
    "print(parkinson_label)"
   ]
  },
  {
   "cell_type": "code",
   "execution_count": 6,
   "metadata": {
    "colab": {
     "base_uri": "https://localhost:8080/"
    },
    "id": "Z6v9AYtIs04T",
    "outputId": "ddac9c9b-747d-48e0-b516-95f41d1a1134"
   },
   "outputs": [
    {
     "name": "stdout",
     "output_type": "stream",
     "text": [
      "610\n",
      "221\n"
     ]
    }
   ],
   "source": [
    "print(len(normal_label))\n",
    "print(len(parkinson_label))"
   ]
  },
  {
   "cell_type": "code",
   "execution_count": 7,
   "metadata": {
    "colab": {
     "base_uri": "https://localhost:8080/"
    },
    "id": "jU6_I48Rk3-Z",
    "outputId": "88f053bd-c4c5-44fa-f91d-99d8e96abaaa"
   },
   "outputs": [
    {
     "data": {
      "text/plain": [
       "[0,\n",
       " 0,\n",
       " 0,\n",
       " 0,\n",
       " 0,\n",
       " 0,\n",
       " 0,\n",
       " 0,\n",
       " 0,\n",
       " 0,\n",
       " 0,\n",
       " 0,\n",
       " 0,\n",
       " 0,\n",
       " 0,\n",
       " 0,\n",
       " 0,\n",
       " 0,\n",
       " 0,\n",
       " 0,\n",
       " 0,\n",
       " 0,\n",
       " 0,\n",
       " 0,\n",
       " 0,\n",
       " 0,\n",
       " 0,\n",
       " 0,\n",
       " 0,\n",
       " 0,\n",
       " 0,\n",
       " 0,\n",
       " 0,\n",
       " 0,\n",
       " 0,\n",
       " 0,\n",
       " 0,\n",
       " 0,\n",
       " 0,\n",
       " 0,\n",
       " 0,\n",
       " 0,\n",
       " 0,\n",
       " 0,\n",
       " 0,\n",
       " 0,\n",
       " 0,\n",
       " 0,\n",
       " 0,\n",
       " 0,\n",
       " 0,\n",
       " 0,\n",
       " 0,\n",
       " 0,\n",
       " 0,\n",
       " 0,\n",
       " 0,\n",
       " 0,\n",
       " 0,\n",
       " 0,\n",
       " 0,\n",
       " 0,\n",
       " 0,\n",
       " 0,\n",
       " 0,\n",
       " 0,\n",
       " 0,\n",
       " 0,\n",
       " 0,\n",
       " 0,\n",
       " 0,\n",
       " 0,\n",
       " 0,\n",
       " 0,\n",
       " 0,\n",
       " 0,\n",
       " 0,\n",
       " 0,\n",
       " 0,\n",
       " 0,\n",
       " 0,\n",
       " 0,\n",
       " 0,\n",
       " 0,\n",
       " 0,\n",
       " 0,\n",
       " 0,\n",
       " 0,\n",
       " 0,\n",
       " 0,\n",
       " 0,\n",
       " 0,\n",
       " 0,\n",
       " 0,\n",
       " 0,\n",
       " 0,\n",
       " 0,\n",
       " 0,\n",
       " 0,\n",
       " 0,\n",
       " 0,\n",
       " 0,\n",
       " 0,\n",
       " 0,\n",
       " 0,\n",
       " 0,\n",
       " 0,\n",
       " 0,\n",
       " 0,\n",
       " 0,\n",
       " 0,\n",
       " 0,\n",
       " 0,\n",
       " 0,\n",
       " 0,\n",
       " 0,\n",
       " 0,\n",
       " 0,\n",
       " 0,\n",
       " 0,\n",
       " 0,\n",
       " 0,\n",
       " 0,\n",
       " 0,\n",
       " 0,\n",
       " 0,\n",
       " 0,\n",
       " 0,\n",
       " 0,\n",
       " 0,\n",
       " 0,\n",
       " 0,\n",
       " 0,\n",
       " 0,\n",
       " 0,\n",
       " 0,\n",
       " 0,\n",
       " 0,\n",
       " 0,\n",
       " 0,\n",
       " 0,\n",
       " 0,\n",
       " 0,\n",
       " 0,\n",
       " 0,\n",
       " 0,\n",
       " 0,\n",
       " 0,\n",
       " 0,\n",
       " 0,\n",
       " 0,\n",
       " 0,\n",
       " 0,\n",
       " 0,\n",
       " 0,\n",
       " 0,\n",
       " 0,\n",
       " 0,\n",
       " 0,\n",
       " 0,\n",
       " 0,\n",
       " 0,\n",
       " 0,\n",
       " 0,\n",
       " 0,\n",
       " 0,\n",
       " 0,\n",
       " 0,\n",
       " 0,\n",
       " 0,\n",
       " 0,\n",
       " 0,\n",
       " 0,\n",
       " 0,\n",
       " 0,\n",
       " 0,\n",
       " 0,\n",
       " 0,\n",
       " 0,\n",
       " 0,\n",
       " 0,\n",
       " 0,\n",
       " 0,\n",
       " 0,\n",
       " 0,\n",
       " 0,\n",
       " 0,\n",
       " 0,\n",
       " 0,\n",
       " 0,\n",
       " 0,\n",
       " 0,\n",
       " 0,\n",
       " 0,\n",
       " 0,\n",
       " 0,\n",
       " 0,\n",
       " 0,\n",
       " 0,\n",
       " 0,\n",
       " 0,\n",
       " 0,\n",
       " 0,\n",
       " 0,\n",
       " 0,\n",
       " 0,\n",
       " 0,\n",
       " 0,\n",
       " 0,\n",
       " 0,\n",
       " 0,\n",
       " 0,\n",
       " 0,\n",
       " 0,\n",
       " 0,\n",
       " 0,\n",
       " 0,\n",
       " 0,\n",
       " 0,\n",
       " 0,\n",
       " 0,\n",
       " 0,\n",
       " 0,\n",
       " 0,\n",
       " 0,\n",
       " 0,\n",
       " 0,\n",
       " 0,\n",
       " 0,\n",
       " 0,\n",
       " 0,\n",
       " 0,\n",
       " 0,\n",
       " 0,\n",
       " 0,\n",
       " 0,\n",
       " 0,\n",
       " 0,\n",
       " 0,\n",
       " 0,\n",
       " 0,\n",
       " 0,\n",
       " 0,\n",
       " 0,\n",
       " 0,\n",
       " 0,\n",
       " 0,\n",
       " 0,\n",
       " 0,\n",
       " 0,\n",
       " 0,\n",
       " 0,\n",
       " 0,\n",
       " 0,\n",
       " 0,\n",
       " 0,\n",
       " 0,\n",
       " 0,\n",
       " 0,\n",
       " 0,\n",
       " 0,\n",
       " 0,\n",
       " 0,\n",
       " 0,\n",
       " 0,\n",
       " 0,\n",
       " 0,\n",
       " 0,\n",
       " 0,\n",
       " 0,\n",
       " 0,\n",
       " 0,\n",
       " 0,\n",
       " 0,\n",
       " 0,\n",
       " 0,\n",
       " 0,\n",
       " 0,\n",
       " 0,\n",
       " 0,\n",
       " 0,\n",
       " 0,\n",
       " 0,\n",
       " 0,\n",
       " 0,\n",
       " 0,\n",
       " 0,\n",
       " 0,\n",
       " 0,\n",
       " 0,\n",
       " 0,\n",
       " 0,\n",
       " 0,\n",
       " 0,\n",
       " 0,\n",
       " 0,\n",
       " 0,\n",
       " 0,\n",
       " 0,\n",
       " 0,\n",
       " 0,\n",
       " 0,\n",
       " 0,\n",
       " 0,\n",
       " 0,\n",
       " 0,\n",
       " 0,\n",
       " 0,\n",
       " 0,\n",
       " 0,\n",
       " 0,\n",
       " 0,\n",
       " 0,\n",
       " 0,\n",
       " 0,\n",
       " 0,\n",
       " 0,\n",
       " 0,\n",
       " 0,\n",
       " 0,\n",
       " 0,\n",
       " 0,\n",
       " 0,\n",
       " 0,\n",
       " 0,\n",
       " 0,\n",
       " 0,\n",
       " 0,\n",
       " 0,\n",
       " 0,\n",
       " 0,\n",
       " 0,\n",
       " 0,\n",
       " 0,\n",
       " 0,\n",
       " 0,\n",
       " 0,\n",
       " 0,\n",
       " 0,\n",
       " 0,\n",
       " 0,\n",
       " 0,\n",
       " 0,\n",
       " 0,\n",
       " 0,\n",
       " 0,\n",
       " 0,\n",
       " 0,\n",
       " 0,\n",
       " 0,\n",
       " 0,\n",
       " 0,\n",
       " 0,\n",
       " 0,\n",
       " 0,\n",
       " 0,\n",
       " 0,\n",
       " 0,\n",
       " 0,\n",
       " 0,\n",
       " 0,\n",
       " 0,\n",
       " 0,\n",
       " 0,\n",
       " 0,\n",
       " 0,\n",
       " 0,\n",
       " 0,\n",
       " 0,\n",
       " 0,\n",
       " 0,\n",
       " 0,\n",
       " 0,\n",
       " 0,\n",
       " 0,\n",
       " 0,\n",
       " 0,\n",
       " 0,\n",
       " 0,\n",
       " 0,\n",
       " 0,\n",
       " 0,\n",
       " 0,\n",
       " 0,\n",
       " 0,\n",
       " 0,\n",
       " 0,\n",
       " 0,\n",
       " 0,\n",
       " 0,\n",
       " 0,\n",
       " 0,\n",
       " 0,\n",
       " 0,\n",
       " 0,\n",
       " 0,\n",
       " 0,\n",
       " 0,\n",
       " 0,\n",
       " 0,\n",
       " 0,\n",
       " 0,\n",
       " 0,\n",
       " 0,\n",
       " 0,\n",
       " 0,\n",
       " 0,\n",
       " 0,\n",
       " 0,\n",
       " 0,\n",
       " 0,\n",
       " 0,\n",
       " 0,\n",
       " 0,\n",
       " 0,\n",
       " 0,\n",
       " 0,\n",
       " 0,\n",
       " 0,\n",
       " 0,\n",
       " 0,\n",
       " 0,\n",
       " 0,\n",
       " 0,\n",
       " 0,\n",
       " 0,\n",
       " 0,\n",
       " 0,\n",
       " 0,\n",
       " 0,\n",
       " 0,\n",
       " 0,\n",
       " 0,\n",
       " 0,\n",
       " 0,\n",
       " 0,\n",
       " 0,\n",
       " 0,\n",
       " 0,\n",
       " 0,\n",
       " 0,\n",
       " 0,\n",
       " 0,\n",
       " 0,\n",
       " 0,\n",
       " 0,\n",
       " 0,\n",
       " 0,\n",
       " 0,\n",
       " 0,\n",
       " 0,\n",
       " 0,\n",
       " 0,\n",
       " 0,\n",
       " 0,\n",
       " 0,\n",
       " 0,\n",
       " 0,\n",
       " 0,\n",
       " 0,\n",
       " 0,\n",
       " 0,\n",
       " 0,\n",
       " 0,\n",
       " 0,\n",
       " 0,\n",
       " 0,\n",
       " 0,\n",
       " 0,\n",
       " 0,\n",
       " 0,\n",
       " 0,\n",
       " 0,\n",
       " 0,\n",
       " 0,\n",
       " 0,\n",
       " 0,\n",
       " 0,\n",
       " 0,\n",
       " 0,\n",
       " 0,\n",
       " 0,\n",
       " 0,\n",
       " 0,\n",
       " 0,\n",
       " 0,\n",
       " 0,\n",
       " 0,\n",
       " 0,\n",
       " 0,\n",
       " 0,\n",
       " 0,\n",
       " 0,\n",
       " 0,\n",
       " 0,\n",
       " 0,\n",
       " 0,\n",
       " 0,\n",
       " 0,\n",
       " 0,\n",
       " 0,\n",
       " 0,\n",
       " 0,\n",
       " 0,\n",
       " 0,\n",
       " 0,\n",
       " 0,\n",
       " 0,\n",
       " 0,\n",
       " 0,\n",
       " 0,\n",
       " 0,\n",
       " 0,\n",
       " 0,\n",
       " 0,\n",
       " 0,\n",
       " 0,\n",
       " 0,\n",
       " 0,\n",
       " 0,\n",
       " 0,\n",
       " 0,\n",
       " 0,\n",
       " 0,\n",
       " 0,\n",
       " 0,\n",
       " 0,\n",
       " 0,\n",
       " 0,\n",
       " 0,\n",
       " 0,\n",
       " 0,\n",
       " 0,\n",
       " 0,\n",
       " 0,\n",
       " 0,\n",
       " 0,\n",
       " 0,\n",
       " 0,\n",
       " 0,\n",
       " 0,\n",
       " 0,\n",
       " 0,\n",
       " 0,\n",
       " 0,\n",
       " 0,\n",
       " 0,\n",
       " 0,\n",
       " 0,\n",
       " 0,\n",
       " 0,\n",
       " 0,\n",
       " 0,\n",
       " 0,\n",
       " 0,\n",
       " 0,\n",
       " 0,\n",
       " 0,\n",
       " 0,\n",
       " 0,\n",
       " 0,\n",
       " 0,\n",
       " 0,\n",
       " 0,\n",
       " 0,\n",
       " 0,\n",
       " 0,\n",
       " 0,\n",
       " 0,\n",
       " 0,\n",
       " 0,\n",
       " 0,\n",
       " 0,\n",
       " 0,\n",
       " 0,\n",
       " 0,\n",
       " 0,\n",
       " 0,\n",
       " 0,\n",
       " 0,\n",
       " 0,\n",
       " 0,\n",
       " 0,\n",
       " 0,\n",
       " 0,\n",
       " 0,\n",
       " 0,\n",
       " 0,\n",
       " 0,\n",
       " 0,\n",
       " 0,\n",
       " 0,\n",
       " 0,\n",
       " 0,\n",
       " 0,\n",
       " 0,\n",
       " 0,\n",
       " 0,\n",
       " 0,\n",
       " 0,\n",
       " 0,\n",
       " 0,\n",
       " 0,\n",
       " 0,\n",
       " 0,\n",
       " 0,\n",
       " 0,\n",
       " 0,\n",
       " 0,\n",
       " 0,\n",
       " 1,\n",
       " 1,\n",
       " 1,\n",
       " 1,\n",
       " 1,\n",
       " 1,\n",
       " 1,\n",
       " 1,\n",
       " 1,\n",
       " 1,\n",
       " 1,\n",
       " 1,\n",
       " 1,\n",
       " 1,\n",
       " 1,\n",
       " 1,\n",
       " 1,\n",
       " 1,\n",
       " 1,\n",
       " 1,\n",
       " 1,\n",
       " 1,\n",
       " 1,\n",
       " 1,\n",
       " 1,\n",
       " 1,\n",
       " 1,\n",
       " 1,\n",
       " 1,\n",
       " 1,\n",
       " 1,\n",
       " 1,\n",
       " 1,\n",
       " 1,\n",
       " 1,\n",
       " 1,\n",
       " 1,\n",
       " 1,\n",
       " 1,\n",
       " 1,\n",
       " 1,\n",
       " 1,\n",
       " 1,\n",
       " 1,\n",
       " 1,\n",
       " 1,\n",
       " 1,\n",
       " 1,\n",
       " 1,\n",
       " 1,\n",
       " 1,\n",
       " 1,\n",
       " 1,\n",
       " 1,\n",
       " 1,\n",
       " 1,\n",
       " 1,\n",
       " 1,\n",
       " 1,\n",
       " 1,\n",
       " 1,\n",
       " 1,\n",
       " 1,\n",
       " 1,\n",
       " 1,\n",
       " 1,\n",
       " 1,\n",
       " 1,\n",
       " 1,\n",
       " 1,\n",
       " 1,\n",
       " 1,\n",
       " 1,\n",
       " 1,\n",
       " 1,\n",
       " 1,\n",
       " 1,\n",
       " 1,\n",
       " 1,\n",
       " 1,\n",
       " 1,\n",
       " 1,\n",
       " 1,\n",
       " 1,\n",
       " 1,\n",
       " 1,\n",
       " 1,\n",
       " 1,\n",
       " 1,\n",
       " 1,\n",
       " 1,\n",
       " 1,\n",
       " 1,\n",
       " 1,\n",
       " 1,\n",
       " 1,\n",
       " 1,\n",
       " 1,\n",
       " 1,\n",
       " 1,\n",
       " 1,\n",
       " 1,\n",
       " 1,\n",
       " 1,\n",
       " 1,\n",
       " 1,\n",
       " 1,\n",
       " 1,\n",
       " 1,\n",
       " 1,\n",
       " 1,\n",
       " 1,\n",
       " 1,\n",
       " 1,\n",
       " 1,\n",
       " 1,\n",
       " 1,\n",
       " 1,\n",
       " 1,\n",
       " 1,\n",
       " 1,\n",
       " 1,\n",
       " 1,\n",
       " 1,\n",
       " 1,\n",
       " 1,\n",
       " 1,\n",
       " 1,\n",
       " 1,\n",
       " 1,\n",
       " 1,\n",
       " 1,\n",
       " 1,\n",
       " 1,\n",
       " 1,\n",
       " 1,\n",
       " 1,\n",
       " 1,\n",
       " 1,\n",
       " 1,\n",
       " 1,\n",
       " 1,\n",
       " 1,\n",
       " 1,\n",
       " 1,\n",
       " 1,\n",
       " 1,\n",
       " 1,\n",
       " 1,\n",
       " 1,\n",
       " 1,\n",
       " 1,\n",
       " 1,\n",
       " 1,\n",
       " 1,\n",
       " 1,\n",
       " 1,\n",
       " 1,\n",
       " 1,\n",
       " 1,\n",
       " 1,\n",
       " 1,\n",
       " 1,\n",
       " 1,\n",
       " 1,\n",
       " 1,\n",
       " 1,\n",
       " 1,\n",
       " 1,\n",
       " 1,\n",
       " 1,\n",
       " 1,\n",
       " 1,\n",
       " 1,\n",
       " 1,\n",
       " 1,\n",
       " 1,\n",
       " 1,\n",
       " 1,\n",
       " 1,\n",
       " 1,\n",
       " 1,\n",
       " 1,\n",
       " 1,\n",
       " 1,\n",
       " 1,\n",
       " 1,\n",
       " 1,\n",
       " 1,\n",
       " 1,\n",
       " 1,\n",
       " 1,\n",
       " 1,\n",
       " 1,\n",
       " 1,\n",
       " 1,\n",
       " 1,\n",
       " 1,\n",
       " 1,\n",
       " 1,\n",
       " 1,\n",
       " 1,\n",
       " 1,\n",
       " 1,\n",
       " 1,\n",
       " 1,\n",
       " 1,\n",
       " 1,\n",
       " 1,\n",
       " 1,\n",
       " 1,\n",
       " 1,\n",
       " 1,\n",
       " 1,\n",
       " 1,\n",
       " 1,\n",
       " 1,\n",
       " 1,\n",
       " 1,\n",
       " 1,\n",
       " 1]"
      ]
     },
     "execution_count": 7,
     "metadata": {},
     "output_type": "execute_result"
    }
   ],
   "source": [
    "labels = normal_label + parkinson_label\n",
    "labels"
   ]
  },
  {
   "cell_type": "code",
   "execution_count": 8,
   "metadata": {
    "colab": {
     "base_uri": "https://localhost:8080/"
    },
    "id": "a7020ashs90a",
    "outputId": "8ba776df-03c1-4cf7-a79f-5cb995dd5832"
   },
   "outputs": [
    {
     "name": "stdout",
     "output_type": "stream",
     "text": [
      "831\n"
     ]
    }
   ],
   "source": [
    "print(len(labels))"
   ]
  },
  {
   "cell_type": "markdown",
   "metadata": {
    "id": "Z3EbSOxothso"
   },
   "source": [
    "**Displaying the image**\n"
   ]
  },
  {
   "cell_type": "code",
   "execution_count": 13,
   "metadata": {
    "colab": {
     "base_uri": "https://localhost:8080/",
     "height": 435
    },
    "id": "5EEdwVI8tmyH",
    "outputId": "4d02a0b6-f6c3-41f2-bbd4-956320365a1a"
   },
   "outputs": [
    {
     "data": {
      "image/png": "[encoded data removed]",
      "text/plain": [
       "<Figure size 640x480 with 1 Axes>"
      ]
     },
     "metadata": {},
     "output_type": "display_data"
    }
   ],
   "source": [
    "# displaying with normal image\n",
    "import matplotlib.pyplot as plt\n",
    "import matplotlib.image as mpimg\n",
    "import os\n",
    "\n",
    "img = mpimg.imread(r'C:\\Users\\Nandu Gatla\\Downloads\\parkinsons_dataset project\\parkinsons_dataset\\normal\\Mag_Images_025.png')\n",
    "imgplot = plt.imshow(img)\n",
    "plt.show()"
   ]
  },
  {
   "cell_type": "code",
   "execution_count": 14,
   "metadata": {
    "colab": {
     "base_uri": "https://localhost:8080/",
     "height": 434
    },
    "id": "peletBJ7t87I",
    "outputId": "fe830ba2-b739-474d-c483-b037baa60f67"
   },
   "outputs": [
    {
     "data": {
      "image/png": "[encoded data removed]",
      "text/plain": [
       "<Figure size 640x480 with 1 Axes>"
      ]
     },
     "metadata": {},
     "output_type": "display_data"
    }
   ],
   "source": [
    "# displaying parkinson disease image\n",
    "img = mpimg.imread(r'C:\\Users\\Nandu Gatla\\Downloads\\parkinsons_dataset project\\parkinsons_dataset\\parkinson\\DUAL_TSE_009.png')\n",
    "imgplot = plt.imshow(img)\n",
    "plt.show()"
   ]
  },
  {
   "cell_type": "markdown",
   "metadata": {
    "id": "XI9I402-Gh2d"
   },
   "source": [
    "### Image Processing\n",
    "   ##### 1.Resize image\n",
    "   ##### 2.Convert the images to numpy arrays\n"
   ]
  },
  {
   "cell_type": "code",
   "execution_count": 15,
   "metadata": {
    "id": "omboF697gbS0"
   },
   "outputs": [],
   "source": [
    "from PIL import Image\n",
    "import numpy as np\n",
    "import os\n",
    "\n",
    "normal_data = r'C:\\Users\\Nandu Gatla\\Downloads\\parkinsons_dataset project\\parkinsons_dataset\\normal'\n",
    "parkinson_data = r'C:\\Users\\Nandu Gatla\\Downloads\\parkinsons_dataset project\\parkinsons_dataset\\parkinson'\n",
    "\n",
    "normal_files = os.listdir(normal_data)\n",
    "parkinson_files = os.listdir(parkinson_data)\n",
    "\n",
    "data = []\n",
    "\n",
    "# Process normal images\n",
    "for img_file in normal_files:\n",
    "    img_path = os.path.join(normal_data, img_file)\n",
    "    image = Image.open(img_path)\n",
    "    image = image.resize((128, 128))\n",
    "    image = image.convert('RGB')\n",
    "    image = np.array(image)\n",
    "    data.append(image)\n",
    "\n",
    "# Process parkinson images\n",
    "for img_file in parkinson_files:\n",
    "    img_path = os.path.join(parkinson_data, img_file)\n",
    "    image = Image.open(img_path)\n",
    "    image = image.resize((128, 128))\n",
    "    image = image.convert('RGB')\n",
    "    image = np.array(image)\n",
    "    data.append(image)\n"
   ]
  },
  {
   "cell_type": "code",
   "execution_count": 16,
   "metadata": {
    "colab": {
     "base_uri": "https://localhost:8080/"
    },
    "id": "VgwLO1fMhGVq",
    "outputId": "84954d9f-8ec2-4426-c5b8-cf1e26d844ac"
   },
   "outputs": [
    {
     "data": {
      "text/plain": [
       "list"
      ]
     },
     "execution_count": 16,
     "metadata": {},
     "output_type": "execute_result"
    }
   ],
   "source": [
    "type(data)"
   ]
  },
  {
   "cell_type": "code",
   "execution_count": 17,
   "metadata": {
    "colab": {
     "base_uri": "https://localhost:8080/"
    },
    "id": "7nRJ71kokMh8",
    "outputId": "b38feae2-8cd4-4203-ffba-e5a93c5da380"
   },
   "outputs": [
    {
     "data": {
      "text/plain": [
       "831"
      ]
     },
     "execution_count": 17,
     "metadata": {},
     "output_type": "execute_result"
    }
   ],
   "source": [
    "len(data)"
   ]
  },
  {
   "cell_type": "code",
   "execution_count": 18,
   "metadata": {
    "colab": {
     "base_uri": "https://localhost:8080/",
     "height": 168
    },
    "id": "mwziyilpkR0W",
    "outputId": "72015a91-4138-48da-96e7-881d7d0213aa"
   },
   "outputs": [
    {
     "data": {
      "text/plain": [
       "array([[[0, 0, 0],\n",
       "        [0, 0, 0],\n",
       "        [0, 0, 0],\n",
       "        ...,\n",
       "        [0, 0, 0],\n",
       "        [0, 0, 0],\n",
       "        [0, 0, 0]],\n",
       "\n",
       "       [[0, 0, 0],\n",
       "        [0, 0, 0],\n",
       "        [0, 0, 0],\n",
       "        ...,\n",
       "        [0, 0, 0],\n",
       "        [0, 0, 0],\n",
       "        [0, 0, 0]],\n",
       "\n",
       "       [[0, 0, 0],\n",
       "        [0, 0, 0],\n",
       "        [0, 0, 0],\n",
       "        ...,\n",
       "        [0, 0, 0],\n",
       "        [0, 0, 0],\n",
       "        [0, 0, 0]],\n",
       "\n",
       "       ...,\n",
       "\n",
       "       [[0, 0, 0],\n",
       "        [0, 0, 0],\n",
       "        [0, 0, 0],\n",
       "        ...,\n",
       "        [0, 0, 0],\n",
       "        [0, 0, 0],\n",
       "        [0, 0, 0]],\n",
       "\n",
       "       [[0, 0, 0],\n",
       "        [0, 0, 0],\n",
       "        [0, 0, 0],\n",
       "        ...,\n",
       "        [0, 0, 0],\n",
       "        [0, 0, 0],\n",
       "        [0, 0, 0]],\n",
       "\n",
       "       [[0, 0, 0],\n",
       "        [0, 0, 0],\n",
       "        [0, 0, 0],\n",
       "        ...,\n",
       "        [0, 0, 0],\n",
       "        [0, 0, 0],\n",
       "        [0, 0, 0]]], dtype=uint8)"
      ]
     },
     "execution_count": 18,
     "metadata": {},
     "output_type": "execute_result"
    }
   ],
   "source": [
    "data[800]"
   ]
  },
  {
   "cell_type": "code",
   "execution_count": 19,
   "metadata": {
    "colab": {
     "base_uri": "https://localhost:8080/"
    },
    "id": "pbEaXRfFuf46",
    "outputId": "77f70146-f15e-4de5-fb87-5d6ca6f14a7e"
   },
   "outputs": [
    {
     "data": {
      "text/plain": [
       "numpy.ndarray"
      ]
     },
     "execution_count": 19,
     "metadata": {},
     "output_type": "execute_result"
    }
   ],
   "source": [
    "type(data[0])"
   ]
  },
  {
   "cell_type": "code",
   "execution_count": 20,
   "metadata": {
    "colab": {
     "base_uri": "https://localhost:8080/"
    },
    "id": "rB3rh2Jbur8y",
    "outputId": "f8bc5df8-4b85-459a-fe70-2508f8d42758"
   },
   "outputs": [
    {
     "data": {
      "text/plain": [
       "(128, 128, 3)"
      ]
     },
     "execution_count": 20,
     "metadata": {},
     "output_type": "execute_result"
    }
   ],
   "source": [
    "data[0].shape"
   ]
  },
  {
   "cell_type": "code",
   "execution_count": 21,
   "metadata": {
    "id": "1egLqG4tkaAr"
   },
   "outputs": [],
   "source": [
    "# converting image list and label list to numpy arrays\n",
    "\n",
    "x = np.array(data)\n",
    "y = np.array(labels)"
   ]
  },
  {
   "cell_type": "code",
   "execution_count": 22,
   "metadata": {
    "colab": {
     "base_uri": "https://localhost:8080/"
    },
    "id": "Lrzi63qAkxx7",
    "outputId": "f48e3b50-be33-4574-da7f-7924b52f3e65"
   },
   "outputs": [
    {
     "data": {
      "text/plain": [
       "array([[[[ 0,  0,  0],\n",
       "         [ 0,  0,  0],\n",
       "         [ 0,  0,  0],\n",
       "         ...,\n",
       "         [ 0,  0,  0],\n",
       "         [ 0,  0,  0],\n",
       "         [ 0,  0,  0]],\n",
       "\n",
       "        [[ 0,  0,  0],\n",
       "         [ 0,  0,  0],\n",
       "         [ 0,  0,  0],\n",
       "         ...,\n",
       "         [ 0,  0,  0],\n",
       "         [ 0,  0,  0],\n",
       "         [ 0,  0,  0]],\n",
       "\n",
       "        [[ 0,  0,  0],\n",
       "         [ 0,  0,  0],\n",
       "         [ 0,  0,  0],\n",
       "         ...,\n",
       "         [ 0,  0,  0],\n",
       "         [ 0,  0,  0],\n",
       "         [ 0,  0,  0]],\n",
       "\n",
       "        ...,\n",
       "\n",
       "        [[ 0,  0,  0],\n",
       "         [ 0,  0,  0],\n",
       "         [ 0,  0,  0],\n",
       "         ...,\n",
       "         [ 0,  0,  0],\n",
       "         [ 0,  0,  0],\n",
       "         [ 0,  0,  0]],\n",
       "\n",
       "        [[ 0,  0,  0],\n",
       "         [ 0,  0,  0],\n",
       "         [ 0,  0,  0],\n",
       "         ...,\n",
       "         [ 0,  0,  0],\n",
       "         [ 0,  0,  0],\n",
       "         [ 0,  0,  0]],\n",
       "\n",
       "        [[ 0,  0,  0],\n",
       "         [ 0,  0,  0],\n",
       "         [ 0,  0,  0],\n",
       "         ...,\n",
       "         [ 0,  0,  0],\n",
       "         [ 0,  0,  0],\n",
       "         [ 0,  0,  0]]],\n",
       "\n",
       "\n",
       "       [[[ 0,  0,  0],\n",
       "         [ 0,  0,  0],\n",
       "         [ 0,  0,  0],\n",
       "         ...,\n",
       "         [ 0,  0,  0],\n",
       "         [ 0,  0,  0],\n",
       "         [ 0,  0,  0]],\n",
       "\n",
       "        [[ 0,  0,  0],\n",
       "         [ 0,  0,  0],\n",
       "         [ 0,  0,  0],\n",
       "         ...,\n",
       "         [ 0,  0,  0],\n",
       "         [ 0,  0,  0],\n",
       "         [ 0,  0,  0]],\n",
       "\n",
       "        [[ 0,  0,  0],\n",
       "         [ 0,  0,  0],\n",
       "         [ 0,  0,  0],\n",
       "         ...,\n",
       "         [ 0,  0,  0],\n",
       "         [ 0,  0,  0],\n",
       "         [ 0,  0,  0]],\n",
       "\n",
       "        ...,\n",
       "\n",
       "        [[ 0,  0,  0],\n",
       "         [ 0,  0,  0],\n",
       "         [ 0,  0,  0],\n",
       "         ...,\n",
       "         [ 0,  0,  0],\n",
       "         [ 0,  0,  0],\n",
       "         [ 0,  0,  0]],\n",
       "\n",
       "        [[ 0,  0,  0],\n",
       "         [ 0,  0,  0],\n",
       "         [ 0,  0,  0],\n",
       "         ...,\n",
       "         [ 0,  0,  0],\n",
       "         [ 0,  0,  0],\n",
       "         [ 0,  0,  0]],\n",
       "\n",
       "        [[ 0,  0,  0],\n",
       "         [ 0,  0,  0],\n",
       "         [ 0,  0,  0],\n",
       "         ...,\n",
       "         [ 0,  0,  0],\n",
       "         [ 0,  0,  0],\n",
       "         [ 0,  0,  0]]],\n",
       "\n",
       "\n",
       "       [[[ 0,  0,  0],\n",
       "         [ 0,  0,  0],\n",
       "         [ 0,  0,  0],\n",
       "         ...,\n",
       "         [ 0,  0,  0],\n",
       "         [ 0,  0,  0],\n",
       "         [ 0,  0,  0]],\n",
       "\n",
       "        [[ 0,  0,  0],\n",
       "         [ 0,  0,  0],\n",
       "         [ 0,  0,  0],\n",
       "         ...,\n",
       "         [ 0,  0,  0],\n",
       "         [ 0,  0,  0],\n",
       "         [ 0,  0,  0]],\n",
       "\n",
       "        [[ 0,  0,  0],\n",
       "         [ 0,  0,  0],\n",
       "         [ 0,  0,  0],\n",
       "         ...,\n",
       "         [ 0,  0,  0],\n",
       "         [ 0,  0,  0],\n",
       "         [ 0,  0,  0]],\n",
       "\n",
       "        ...,\n",
       "\n",
       "        [[ 0,  0,  0],\n",
       "         [ 0,  0,  0],\n",
       "         [ 0,  0,  0],\n",
       "         ...,\n",
       "         [ 0,  0,  0],\n",
       "         [ 0,  0,  0],\n",
       "         [ 0,  0,  0]],\n",
       "\n",
       "        [[ 0,  0,  0],\n",
       "         [ 0,  0,  0],\n",
       "         [ 0,  0,  0],\n",
       "         ...,\n",
       "         [ 0,  0,  0],\n",
       "         [ 0,  0,  0],\n",
       "         [ 0,  0,  0]],\n",
       "\n",
       "        [[ 0,  0,  0],\n",
       "         [ 0,  0,  0],\n",
       "         [ 0,  0,  0],\n",
       "         ...,\n",
       "         [ 0,  0,  0],\n",
       "         [ 0,  0,  0],\n",
       "         [ 0,  0,  0]]],\n",
       "\n",
       "\n",
       "       ...,\n",
       "\n",
       "\n",
       "       [[[ 0,  0,  0],\n",
       "         [ 0,  0,  0],\n",
       "         [ 0,  0,  0],\n",
       "         ...,\n",
       "         [ 0,  0,  0],\n",
       "         [ 0,  0,  0],\n",
       "         [ 0,  0,  0]],\n",
       "\n",
       "        [[ 0,  0,  0],\n",
       "         [ 0,  0,  0],\n",
       "         [ 0,  0,  0],\n",
       "         ...,\n",
       "         [ 0,  0,  0],\n",
       "         [ 0,  0,  0],\n",
       "         [ 0,  0,  0]],\n",
       "\n",
       "        [[ 0,  0,  0],\n",
       "         [ 0,  0,  0],\n",
       "         [ 0,  0,  0],\n",
       "         ...,\n",
       "         [ 0,  0,  0],\n",
       "         [ 0,  0,  0],\n",
       "         [ 0,  0,  0]],\n",
       "\n",
       "        ...,\n",
       "\n",
       "        [[ 0,  0,  0],\n",
       "         [ 0,  0,  0],\n",
       "         [ 0,  0,  0],\n",
       "         ...,\n",
       "         [ 4,  4,  4],\n",
       "         [ 0,  0,  0],\n",
       "         [ 0,  0,  0]],\n",
       "\n",
       "        [[ 0,  0,  0],\n",
       "         [ 0,  0,  0],\n",
       "         [ 0,  0,  0],\n",
       "         ...,\n",
       "         [ 7,  7,  7],\n",
       "         [ 0,  0,  0],\n",
       "         [ 0,  0,  0]],\n",
       "\n",
       "        [[ 0,  0,  0],\n",
       "         [ 0,  0,  0],\n",
       "         [ 0,  0,  0],\n",
       "         ...,\n",
       "         [17, 17, 17],\n",
       "         [ 0,  0,  0],\n",
       "         [ 0,  0,  0]]],\n",
       "\n",
       "\n",
       "       [[[ 0,  0,  0],\n",
       "         [ 0,  0,  0],\n",
       "         [ 0,  0,  0],\n",
       "         ...,\n",
       "         [ 0,  0,  0],\n",
       "         [ 0,  0,  0],\n",
       "         [ 0,  0,  0]],\n",
       "\n",
       "        [[ 0,  0,  0],\n",
       "         [ 0,  0,  0],\n",
       "         [ 0,  0,  0],\n",
       "         ...,\n",
       "         [ 0,  0,  0],\n",
       "         [ 0,  0,  0],\n",
       "         [ 0,  0,  0]],\n",
       "\n",
       "        [[ 0,  0,  0],\n",
       "         [ 0,  0,  0],\n",
       "         [ 0,  0,  0],\n",
       "         ...,\n",
       "         [ 0,  0,  0],\n",
       "         [ 0,  0,  0],\n",
       "         [ 0,  0,  0]],\n",
       "\n",
       "        ...,\n",
       "\n",
       "        [[ 0,  0,  0],\n",
       "         [ 0,  0,  0],\n",
       "         [ 0,  0,  0],\n",
       "         ...,\n",
       "         [ 4,  4,  4],\n",
       "         [ 0,  0,  0],\n",
       "         [ 0,  0,  0]],\n",
       "\n",
       "        [[ 0,  0,  0],\n",
       "         [ 0,  0,  0],\n",
       "         [ 0,  0,  0],\n",
       "         ...,\n",
       "         [ 6,  6,  6],\n",
       "         [ 0,  0,  0],\n",
       "         [ 0,  0,  0]],\n",
       "\n",
       "        [[ 0,  0,  0],\n",
       "         [ 0,  0,  0],\n",
       "         [ 0,  0,  0],\n",
       "         ...,\n",
       "         [13, 13, 13],\n",
       "         [ 0,  0,  0],\n",
       "         [ 0,  0,  0]]],\n",
       "\n",
       "\n",
       "       [[[ 0,  0,  0],\n",
       "         [ 0,  0,  0],\n",
       "         [ 0,  0,  0],\n",
       "         ...,\n",
       "         [ 0,  0,  0],\n",
       "         [ 0,  0,  0],\n",
       "         [ 0,  0,  0]],\n",
       "\n",
       "        [[ 0,  0,  0],\n",
       "         [ 0,  0,  0],\n",
       "         [ 0,  0,  0],\n",
       "         ...,\n",
       "         [ 0,  0,  0],\n",
       "         [ 0,  0,  0],\n",
       "         [ 0,  0,  0]],\n",
       "\n",
       "        [[ 0,  0,  0],\n",
       "         [ 0,  0,  0],\n",
       "         [ 0,  0,  0],\n",
       "         ...,\n",
       "         [ 0,  0,  0],\n",
       "         [ 0,  0,  0],\n",
       "         [ 0,  0,  0]],\n",
       "\n",
       "        ...,\n",
       "\n",
       "        [[ 0,  0,  0],\n",
       "         [ 0,  0,  0],\n",
       "         [ 0,  0,  0],\n",
       "         ...,\n",
       "         [ 3,  3,  3],\n",
       "         [ 0,  0,  0],\n",
       "         [ 0,  0,  0]],\n",
       "\n",
       "        [[ 0,  0,  0],\n",
       "         [ 0,  0,  0],\n",
       "         [ 0,  0,  0],\n",
       "         ...,\n",
       "         [ 4,  4,  4],\n",
       "         [ 0,  0,  0],\n",
       "         [ 0,  0,  0]],\n",
       "\n",
       "        [[ 0,  0,  0],\n",
       "         [ 0,  0,  0],\n",
       "         [ 0,  0,  0],\n",
       "         ...,\n",
       "         [17, 17, 17],\n",
       "         [ 0,  0,  0],\n",
       "         [ 0,  0,  0]]]], dtype=uint8)"
      ]
     },
     "execution_count": 22,
     "metadata": {},
     "output_type": "execute_result"
    }
   ],
   "source": [
    "x"
   ]
  },
  {
   "cell_type": "code",
   "execution_count": 23,
   "metadata": {
    "colab": {
     "base_uri": "https://localhost:8080/"
    },
    "id": "LjvUatIKu0M0",
    "outputId": "52784090-d9f4-475b-f2a8-5ed0b5aec324"
   },
   "outputs": [
    {
     "data": {
      "text/plain": [
       "numpy.ndarray"
      ]
     },
     "execution_count": 23,
     "metadata": {},
     "output_type": "execute_result"
    }
   ],
   "source": [
    "type(x)"
   ]
  },
  {
   "cell_type": "code",
   "execution_count": 24,
   "metadata": {
    "colab": {
     "base_uri": "https://localhost:8080/"
    },
    "id": "pCmk7iprlLQa",
    "outputId": "46585c17-4077-4151-fa8d-4de5af13acae"
   },
   "outputs": [
    {
     "data": {
      "text/plain": [
       "array([0, 0, 0, 0, 0, 0, 0, 0, 0, 0, 0, 0, 0, 0, 0, 0, 0, 0, 0, 0, 0, 0,\n",
       "       0, 0, 0, 0, 0, 0, 0, 0, 0, 0, 0, 0, 0, 0, 0, 0, 0, 0, 0, 0, 0, 0,\n",
       "       0, 0, 0, 0, 0, 0, 0, 0, 0, 0, 0, 0, 0, 0, 0, 0, 0, 0, 0, 0, 0, 0,\n",
       "       0, 0, 0, 0, 0, 0, 0, 0, 0, 0, 0, 0, 0, 0, 0, 0, 0, 0, 0, 0, 0, 0,\n",
       "       0, 0, 0, 0, 0, 0, 0, 0, 0, 0, 0, 0, 0, 0, 0, 0, 0, 0, 0, 0, 0, 0,\n",
       "       0, 0, 0, 0, 0, 0, 0, 0, 0, 0, 0, 0, 0, 0, 0, 0, 0, 0, 0, 0, 0, 0,\n",
       "       0, 0, 0, 0, 0, 0, 0, 0, 0, 0, 0, 0, 0, 0, 0, 0, 0, 0, 0, 0, 0, 0,\n",
       "       0, 0, 0, 0, 0, 0, 0, 0, 0, 0, 0, 0, 0, 0, 0, 0, 0, 0, 0, 0, 0, 0,\n",
       "       0, 0, 0, 0, 0, 0, 0, 0, 0, 0, 0, 0, 0, 0, 0, 0, 0, 0, 0, 0, 0, 0,\n",
       "       0, 0, 0, 0, 0, 0, 0, 0, 0, 0, 0, 0, 0, 0, 0, 0, 0, 0, 0, 0, 0, 0,\n",
       "       0, 0, 0, 0, 0, 0, 0, 0, 0, 0, 0, 0, 0, 0, 0, 0, 0, 0, 0, 0, 0, 0,\n",
       "       0, 0, 0, 0, 0, 0, 0, 0, 0, 0, 0, 0, 0, 0, 0, 0, 0, 0, 0, 0, 0, 0,\n",
       "       0, 0, 0, 0, 0, 0, 0, 0, 0, 0, 0, 0, 0, 0, 0, 0, 0, 0, 0, 0, 0, 0,\n",
       "       0, 0, 0, 0, 0, 0, 0, 0, 0, 0, 0, 0, 0, 0, 0, 0, 0, 0, 0, 0, 0, 0,\n",
       "       0, 0, 0, 0, 0, 0, 0, 0, 0, 0, 0, 0, 0, 0, 0, 0, 0, 0, 0, 0, 0, 0,\n",
       "       0, 0, 0, 0, 0, 0, 0, 0, 0, 0, 0, 0, 0, 0, 0, 0, 0, 0, 0, 0, 0, 0,\n",
       "       0, 0, 0, 0, 0, 0, 0, 0, 0, 0, 0, 0, 0, 0, 0, 0, 0, 0, 0, 0, 0, 0,\n",
       "       0, 0, 0, 0, 0, 0, 0, 0, 0, 0, 0, 0, 0, 0, 0, 0, 0, 0, 0, 0, 0, 0,\n",
       "       0, 0, 0, 0, 0, 0, 0, 0, 0, 0, 0, 0, 0, 0, 0, 0, 0, 0, 0, 0, 0, 0,\n",
       "       0, 0, 0, 0, 0, 0, 0, 0, 0, 0, 0, 0, 0, 0, 0, 0, 0, 0, 0, 0, 0, 0,\n",
       "       0, 0, 0, 0, 0, 0, 0, 0, 0, 0, 0, 0, 0, 0, 0, 0, 0, 0, 0, 0, 0, 0,\n",
       "       0, 0, 0, 0, 0, 0, 0, 0, 0, 0, 0, 0, 0, 0, 0, 0, 0, 0, 0, 0, 0, 0,\n",
       "       0, 0, 0, 0, 0, 0, 0, 0, 0, 0, 0, 0, 0, 0, 0, 0, 0, 0, 0, 0, 0, 0,\n",
       "       0, 0, 0, 0, 0, 0, 0, 0, 0, 0, 0, 0, 0, 0, 0, 0, 0, 0, 0, 0, 0, 0,\n",
       "       0, 0, 0, 0, 0, 0, 0, 0, 0, 0, 0, 0, 0, 0, 0, 0, 0, 0, 0, 0, 0, 0,\n",
       "       0, 0, 0, 0, 0, 0, 0, 0, 0, 0, 0, 0, 0, 0, 0, 0, 0, 0, 0, 0, 0, 0,\n",
       "       0, 0, 0, 0, 0, 0, 0, 0, 0, 0, 0, 0, 0, 0, 0, 0, 0, 0, 0, 0, 0, 0,\n",
       "       0, 0, 0, 0, 0, 0, 0, 0, 0, 0, 0, 0, 0, 0, 0, 0, 1, 1, 1, 1, 1, 1,\n",
       "       1, 1, 1, 1, 1, 1, 1, 1, 1, 1, 1, 1, 1, 1, 1, 1, 1, 1, 1, 1, 1, 1,\n",
       "       1, 1, 1, 1, 1, 1, 1, 1, 1, 1, 1, 1, 1, 1, 1, 1, 1, 1, 1, 1, 1, 1,\n",
       "       1, 1, 1, 1, 1, 1, 1, 1, 1, 1, 1, 1, 1, 1, 1, 1, 1, 1, 1, 1, 1, 1,\n",
       "       1, 1, 1, 1, 1, 1, 1, 1, 1, 1, 1, 1, 1, 1, 1, 1, 1, 1, 1, 1, 1, 1,\n",
       "       1, 1, 1, 1, 1, 1, 1, 1, 1, 1, 1, 1, 1, 1, 1, 1, 1, 1, 1, 1, 1, 1,\n",
       "       1, 1, 1, 1, 1, 1, 1, 1, 1, 1, 1, 1, 1, 1, 1, 1, 1, 1, 1, 1, 1, 1,\n",
       "       1, 1, 1, 1, 1, 1, 1, 1, 1, 1, 1, 1, 1, 1, 1, 1, 1, 1, 1, 1, 1, 1,\n",
       "       1, 1, 1, 1, 1, 1, 1, 1, 1, 1, 1, 1, 1, 1, 1, 1, 1, 1, 1, 1, 1, 1,\n",
       "       1, 1, 1, 1, 1, 1, 1, 1, 1, 1, 1, 1, 1, 1, 1, 1, 1, 1, 1, 1, 1, 1,\n",
       "       1, 1, 1, 1, 1, 1, 1, 1, 1, 1, 1, 1, 1, 1, 1, 1, 1])"
      ]
     },
     "execution_count": 24,
     "metadata": {},
     "output_type": "execute_result"
    }
   ],
   "source": [
    "y"
   ]
  },
  {
   "cell_type": "code",
   "execution_count": 25,
   "metadata": {
    "colab": {
     "base_uri": "https://localhost:8080/"
    },
    "id": "RA-70OMAu8q3",
    "outputId": "bbf239d3-59f5-4b5d-8f69-8d181e078182"
   },
   "outputs": [
    {
     "name": "stdout",
     "output_type": "stream",
     "text": [
      "(831, 128, 128, 3)\n",
      "(831,)\n"
     ]
    }
   ],
   "source": [
    "print(x.shape)\n",
    "print(y.shape)"
   ]
  },
  {
   "cell_type": "markdown",
   "metadata": {
    "id": "FhHEbjZyIcLC"
   },
   "source": [
    "#### Splitting data into train and test"
   ]
  },
  {
   "cell_type": "code",
   "execution_count": 30,
   "metadata": {
    "id": "n4zZkfa0lUYn"
   },
   "outputs": [],
   "source": [
    "X_train, X_test, Y_train, Y_test = train_test_split(x, y, test_size=0.2, random_state=2)"
   ]
  },
  {
   "cell_type": "code",
   "execution_count": 31,
   "metadata": {
    "colab": {
     "base_uri": "https://localhost:8080/"
    },
    "id": "SP-AtH03vKfx",
    "outputId": "2e1383e1-a7ac-49e9-8dc4-e97182ac4d48"
   },
   "outputs": [
    {
     "data": {
      "text/plain": [
       "(664, 128, 128, 3)"
      ]
     },
     "execution_count": 31,
     "metadata": {},
     "output_type": "execute_result"
    }
   ],
   "source": [
    "X_train.shape"
   ]
  },
  {
   "cell_type": "code",
   "execution_count": 32,
   "metadata": {
    "colab": {
     "base_uri": "https://localhost:8080/"
    },
    "id": "mjVD8oU1vPxl",
    "outputId": "f5a68001-4175-46f7-c167-c1c748bbf33c"
   },
   "outputs": [
    {
     "data": {
      "text/plain": [
       "(167, 128, 128, 3)"
      ]
     },
     "execution_count": 32,
     "metadata": {},
     "output_type": "execute_result"
    }
   ],
   "source": [
    "X_test.shape"
   ]
  },
  {
   "cell_type": "code",
   "execution_count": 33,
   "metadata": {
    "colab": {
     "base_uri": "https://localhost:8080/"
    },
    "id": "ag6uS3yfvSsz",
    "outputId": "5b93543b-6266-4423-8c5d-9dfc91756b18"
   },
   "outputs": [
    {
     "data": {
      "text/plain": [
       "(664,)"
      ]
     },
     "execution_count": 33,
     "metadata": {},
     "output_type": "execute_result"
    }
   ],
   "source": [
    "Y_train.shape"
   ]
  },
  {
   "cell_type": "code",
   "execution_count": 34,
   "metadata": {
    "colab": {
     "base_uri": "https://localhost:8080/"
    },
    "id": "rr85Gu2IvU3W",
    "outputId": "0e3ce372-4d9b-4332-b10e-c833e2c0cc92"
   },
   "outputs": [
    {
     "data": {
      "text/plain": [
       "(167,)"
      ]
     },
     "execution_count": 34,
     "metadata": {},
     "output_type": "execute_result"
    }
   ],
   "source": [
    "Y_test.shape"
   ]
  },
  {
   "cell_type": "code",
   "execution_count": 35,
   "metadata": {
    "id": "tvRT0cb3lm8q"
   },
   "outputs": [],
   "source": [
    "# scaling the data\n",
    "\n",
    "X_train_scaled = X_train/255\n",
    "\n",
    "X_test_scaled = X_test/255"
   ]
  },
  {
   "cell_type": "code",
   "execution_count": 36,
   "metadata": {
    "colab": {
     "base_uri": "https://localhost:8080/"
    },
    "id": "WQ67eRmpvmlA",
    "outputId": "2aa14541-961d-4b01-84cd-a45b7c16e5e8"
   },
   "outputs": [
    {
     "data": {
      "text/plain": [
       "array([[[0.        , 0.        , 0.        ],\n",
       "        [0.        , 0.        , 0.        ],\n",
       "        [0.        , 0.        , 0.        ],\n",
       "        ...,\n",
       "        [0.        , 0.        , 0.        ],\n",
       "        [0.        , 0.        , 0.        ],\n",
       "        [0.        , 0.        , 0.        ]],\n",
       "\n",
       "       [[0.        , 0.        , 0.        ],\n",
       "        [0.        , 0.        , 0.        ],\n",
       "        [0.        , 0.        , 0.        ],\n",
       "        ...,\n",
       "        [0.        , 0.        , 0.        ],\n",
       "        [0.        , 0.        , 0.        ],\n",
       "        [0.        , 0.        , 0.        ]],\n",
       "\n",
       "       [[0.        , 0.        , 0.        ],\n",
       "        [0.00392157, 0.00392157, 0.00392157],\n",
       "        [0.00392157, 0.00392157, 0.00392157],\n",
       "        ...,\n",
       "        [0.00392157, 0.00392157, 0.00392157],\n",
       "        [0.00392157, 0.00392157, 0.00392157],\n",
       "        [0.        , 0.        , 0.        ]],\n",
       "\n",
       "       ...,\n",
       "\n",
       "       [[0.00392157, 0.00392157, 0.00392157],\n",
       "        [0.00784314, 0.00784314, 0.00784314],\n",
       "        [0.00784314, 0.00784314, 0.00784314],\n",
       "        ...,\n",
       "        [0.00392157, 0.00392157, 0.00392157],\n",
       "        [0.00784314, 0.00784314, 0.00784314],\n",
       "        [0.00392157, 0.00392157, 0.00392157]],\n",
       "\n",
       "       [[0.00392157, 0.00392157, 0.00392157],\n",
       "        [0.00784314, 0.00784314, 0.00784314],\n",
       "        [0.00784314, 0.00784314, 0.00784314],\n",
       "        ...,\n",
       "        [0.        , 0.        , 0.        ],\n",
       "        [0.        , 0.        , 0.        ],\n",
       "        [0.        , 0.        , 0.        ]],\n",
       "\n",
       "       [[0.00392157, 0.00392157, 0.00392157],\n",
       "        [0.00392157, 0.00392157, 0.00392157],\n",
       "        [0.00784314, 0.00784314, 0.00784314],\n",
       "        ...,\n",
       "        [0.        , 0.        , 0.        ],\n",
       "        [0.        , 0.        , 0.        ],\n",
       "        [0.        , 0.        , 0.        ]]])"
      ]
     },
     "execution_count": 36,
     "metadata": {},
     "output_type": "execute_result"
    }
   ],
   "source": [
    "X_train_scaled[0]"
   ]
  },
  {
   "cell_type": "code",
   "execution_count": 37,
   "metadata": {
    "colab": {
     "base_uri": "https://localhost:8080/"
    },
    "id": "c_7NqlrYvtIx",
    "outputId": "cf57eea1-9fb6-48d9-f5ad-d4cad9181e0a"
   },
   "outputs": [
    {
     "data": {
      "text/plain": [
       "array([[[0.        , 0.        , 0.        ],\n",
       "        [0.        , 0.        , 0.        ],\n",
       "        [0.        , 0.        , 0.        ],\n",
       "        ...,\n",
       "        [0.00392157, 0.00392157, 0.00392157],\n",
       "        [0.        , 0.        , 0.        ],\n",
       "        [0.        , 0.        , 0.        ]],\n",
       "\n",
       "       [[0.        , 0.        , 0.        ],\n",
       "        [0.        , 0.        , 0.        ],\n",
       "        [0.        , 0.        , 0.        ],\n",
       "        ...,\n",
       "        [0.00392157, 0.00392157, 0.00392157],\n",
       "        [0.00392157, 0.00392157, 0.00392157],\n",
       "        [0.00392157, 0.00392157, 0.00392157]],\n",
       "\n",
       "       [[0.        , 0.        , 0.        ],\n",
       "        [0.00392157, 0.00392157, 0.00392157],\n",
       "        [0.        , 0.        , 0.        ],\n",
       "        ...,\n",
       "        [0.00392157, 0.00392157, 0.00392157],\n",
       "        [0.00392157, 0.00392157, 0.00392157],\n",
       "        [0.00392157, 0.00392157, 0.00392157]],\n",
       "\n",
       "       ...,\n",
       "\n",
       "       [[0.00392157, 0.00392157, 0.00392157],\n",
       "        [0.00392157, 0.00392157, 0.00392157],\n",
       "        [0.00392157, 0.00392157, 0.00392157],\n",
       "        ...,\n",
       "        [0.00392157, 0.00392157, 0.00392157],\n",
       "        [0.        , 0.        , 0.        ],\n",
       "        [0.00392157, 0.00392157, 0.00392157]],\n",
       "\n",
       "       [[0.        , 0.        , 0.        ],\n",
       "        [0.        , 0.        , 0.        ],\n",
       "        [0.        , 0.        , 0.        ],\n",
       "        ...,\n",
       "        [0.00392157, 0.00392157, 0.00392157],\n",
       "        [0.        , 0.        , 0.        ],\n",
       "        [0.00392157, 0.00392157, 0.00392157]],\n",
       "\n",
       "       [[0.        , 0.        , 0.        ],\n",
       "        [0.        , 0.        , 0.        ],\n",
       "        [0.        , 0.        , 0.        ],\n",
       "        ...,\n",
       "        [0.00392157, 0.00392157, 0.00392157],\n",
       "        [0.00392157, 0.00392157, 0.00392157],\n",
       "        [0.00392157, 0.00392157, 0.00392157]]])"
      ]
     },
     "execution_count": 37,
     "metadata": {},
     "output_type": "execute_result"
    }
   ],
   "source": [
    "X_test_scaled[0]"
   ]
  },
  {
   "cell_type": "markdown",
   "metadata": {
    "id": "gg4KguN7J22l"
   },
   "source": [
    "### Building CNN"
   ]
  },
  {
   "cell_type": "code",
   "execution_count": 38,
   "metadata": {
    "id": "E6C2S6xEl91O"
   },
   "outputs": [],
   "source": [
    "import tensorflow as tf\n",
    "from tensorflow.keras import layers, models\n",
    "from tensorflow import keras\n",
    "from keras.models import Sequential\n",
    "from keras.layers import Conv2D, MaxPooling2D, Flatten, Dense\n",
    "import matplotlib.pyplot as plt"
   ]
  },
  {
   "cell_type": "code",
   "execution_count": 47,
   "metadata": {
    "id": "ssGA9lFMmEQK"
   },
   "outputs": [
    {
     "name": "stderr",
     "output_type": "stream",
     "text": [
      "C:\\Users\\Nandu Gatla\\AppData\\Roaming\\Python\\Python312\\site-packages\\keras\\src\\layers\\convolutional\\base_conv.py:107: UserWarning: Do not pass an `input_shape`/`input_dim` argument to a layer. When using Sequential models, prefer using an `Input(shape)` object as the first layer in the model instead.\n",
      "  super().__init__(activity_regularizer=activity_regularizer, **kwargs)\n"
     ]
    }
   ],
   "source": [
    "num_of_classes = 2\n",
    "\n",
    "cnn = keras.Sequential()\n",
    "\n",
    "cnn.add(keras.layers.Conv2D(32, kernel_size=(3,3), activation='relu', input_shape=(128,128,3)))\n",
    "cnn.add(keras.layers.MaxPooling2D(pool_size=(2,2)))\n",
    "\n",
    "cnn.add(keras.layers.Conv2D(64, kernel_size=(3,3), activation='relu'))\n",
    "cnn.add(keras.layers.MaxPooling2D(pool_size=(2,2)))\n",
    "\n",
    "cnn.add(keras.layers.Flatten())\n",
    "\n",
    "cnn.add(keras.layers.Dense(128, activation='relu'))\n",
    "cnn.add(keras.layers.Dropout(0.5))\n",
    "\n",
    "cnn.add(keras.layers.Dense(64, activation='relu'))\n",
    "cnn.add(keras.layers.Dropout(0.5))\n",
    "\n",
    "\n",
    "cnn.add(keras.layers.Dense(num_of_classes, activation='sigmoid'))\n"
   ]
  },
  {
   "cell_type": "code",
   "execution_count": 48,
   "metadata": {
    "colab": {
     "base_uri": "https://localhost:8080/"
    },
    "id": "zZtzlqKfmHYl",
    "outputId": "dfdcea76-8d1f-4fd3-a267-993b418f10a8"
   },
   "outputs": [
    {
     "data": {
      "text/html": [
       "<pre style=\"white-space:pre;overflow-x:auto;line-height:normal;font-family:Menlo,'DejaVu Sans Mono',consolas,'Courier New',monospace\"><span style=\"font-weight: bold\">Model: \"sequential_2\"</span>\n",
       "</pre>\n"
      ],
      "text/plain": [
       "\u001b[1mModel: \"sequential_2\"\u001b[0m\n"
      ]
     },
     "metadata": {},
     "output_type": "display_data"
    },
    {
     "data": {
      "text/html": [
       "<pre style=\"white-space:pre;overflow-x:auto;line-height:normal;font-family:Menlo,'DejaVu Sans Mono',consolas,'Courier New',monospace\">┏━━━━━━━━━━━━━━━━━━━━━━━━━━━━━━━━━┳━━━━━━━━━━━━━━━━━━━━━━━━┳━━━━━━━━━━━━━━━┓\n",
       "┃<span style=\"font-weight: bold\"> Layer (type)                    </span>┃<span style=\"font-weight: bold\"> Output Shape           </span>┃<span style=\"font-weight: bold\">       Param # </span>┃\n",
       "┡━━━━━━━━━━━━━━━━━━━━━━━━━━━━━━━━━╇━━━━━━━━━━━━━━━━━━━━━━━━╇━━━━━━━━━━━━━━━┩\n",
       "│ conv2d_4 (<span style=\"color: #0087ff; text-decoration-color: #0087ff\">Conv2D</span>)               │ (<span style=\"color: #00d7ff; text-decoration-color: #00d7ff\">None</span>, <span style=\"color: #00af00; text-decoration-color: #00af00\">126</span>, <span style=\"color: #00af00; text-decoration-color: #00af00\">126</span>, <span style=\"color: #00af00; text-decoration-color: #00af00\">32</span>)   │           <span style=\"color: #00af00; text-decoration-color: #00af00\">896</span> │\n",
       "├─────────────────────────────────┼────────────────────────┼───────────────┤\n",
       "│ max_pooling2d_4 (<span style=\"color: #0087ff; text-decoration-color: #0087ff\">MaxPooling2D</span>)  │ (<span style=\"color: #00d7ff; text-decoration-color: #00d7ff\">None</span>, <span style=\"color: #00af00; text-decoration-color: #00af00\">63</span>, <span style=\"color: #00af00; text-decoration-color: #00af00\">63</span>, <span style=\"color: #00af00; text-decoration-color: #00af00\">32</span>)     │             <span style=\"color: #00af00; text-decoration-color: #00af00\">0</span> │\n",
       "├─────────────────────────────────┼────────────────────────┼───────────────┤\n",
       "│ conv2d_5 (<span style=\"color: #0087ff; text-decoration-color: #0087ff\">Conv2D</span>)               │ (<span style=\"color: #00d7ff; text-decoration-color: #00d7ff\">None</span>, <span style=\"color: #00af00; text-decoration-color: #00af00\">61</span>, <span style=\"color: #00af00; text-decoration-color: #00af00\">61</span>, <span style=\"color: #00af00; text-decoration-color: #00af00\">64</span>)     │        <span style=\"color: #00af00; text-decoration-color: #00af00\">18,496</span> │\n",
       "├─────────────────────────────────┼────────────────────────┼───────────────┤\n",
       "│ max_pooling2d_5 (<span style=\"color: #0087ff; text-decoration-color: #0087ff\">MaxPooling2D</span>)  │ (<span style=\"color: #00d7ff; text-decoration-color: #00d7ff\">None</span>, <span style=\"color: #00af00; text-decoration-color: #00af00\">30</span>, <span style=\"color: #00af00; text-decoration-color: #00af00\">30</span>, <span style=\"color: #00af00; text-decoration-color: #00af00\">64</span>)     │             <span style=\"color: #00af00; text-decoration-color: #00af00\">0</span> │\n",
       "├─────────────────────────────────┼────────────────────────┼───────────────┤\n",
       "│ flatten_2 (<span style=\"color: #0087ff; text-decoration-color: #0087ff\">Flatten</span>)             │ (<span style=\"color: #00d7ff; text-decoration-color: #00d7ff\">None</span>, <span style=\"color: #00af00; text-decoration-color: #00af00\">57600</span>)          │             <span style=\"color: #00af00; text-decoration-color: #00af00\">0</span> │\n",
       "├─────────────────────────────────┼────────────────────────┼───────────────┤\n",
       "│ dense_6 (<span style=\"color: #0087ff; text-decoration-color: #0087ff\">Dense</span>)                 │ (<span style=\"color: #00d7ff; text-decoration-color: #00d7ff\">None</span>, <span style=\"color: #00af00; text-decoration-color: #00af00\">128</span>)            │     <span style=\"color: #00af00; text-decoration-color: #00af00\">7,372,928</span> │\n",
       "├─────────────────────────────────┼────────────────────────┼───────────────┤\n",
       "│ dropout_4 (<span style=\"color: #0087ff; text-decoration-color: #0087ff\">Dropout</span>)             │ (<span style=\"color: #00d7ff; text-decoration-color: #00d7ff\">None</span>, <span style=\"color: #00af00; text-decoration-color: #00af00\">128</span>)            │             <span style=\"color: #00af00; text-decoration-color: #00af00\">0</span> │\n",
       "├─────────────────────────────────┼────────────────────────┼───────────────┤\n",
       "│ dense_7 (<span style=\"color: #0087ff; text-decoration-color: #0087ff\">Dense</span>)                 │ (<span style=\"color: #00d7ff; text-decoration-color: #00d7ff\">None</span>, <span style=\"color: #00af00; text-decoration-color: #00af00\">64</span>)             │         <span style=\"color: #00af00; text-decoration-color: #00af00\">8,256</span> │\n",
       "├─────────────────────────────────┼────────────────────────┼───────────────┤\n",
       "│ dropout_5 (<span style=\"color: #0087ff; text-decoration-color: #0087ff\">Dropout</span>)             │ (<span style=\"color: #00d7ff; text-decoration-color: #00d7ff\">None</span>, <span style=\"color: #00af00; text-decoration-color: #00af00\">64</span>)             │             <span style=\"color: #00af00; text-decoration-color: #00af00\">0</span> │\n",
       "├─────────────────────────────────┼────────────────────────┼───────────────┤\n",
       "│ dense_8 (<span style=\"color: #0087ff; text-decoration-color: #0087ff\">Dense</span>)                 │ (<span style=\"color: #00d7ff; text-decoration-color: #00d7ff\">None</span>, <span style=\"color: #00af00; text-decoration-color: #00af00\">2</span>)              │           <span style=\"color: #00af00; text-decoration-color: #00af00\">130</span> │\n",
       "└─────────────────────────────────┴────────────────────────┴───────────────┘\n",
       "</pre>\n"
      ],
      "text/plain": [
       "┏━━━━━━━━━━━━━━━━━━━━━━━━━━━━━━━━━┳━━━━━━━━━━━━━━━━━━━━━━━━┳━━━━━━━━━━━━━━━┓\n",
       "┃\u001b[1m \u001b[0m\u001b[1mLayer (type)                   \u001b[0m\u001b[1m \u001b[0m┃\u001b[1m \u001b[0m\u001b[1mOutput Shape          \u001b[0m\u001b[1m \u001b[0m┃\u001b[1m \u001b[0m\u001b[1m      Param #\u001b[0m\u001b[1m \u001b[0m┃\n",
       "┡━━━━━━━━━━━━━━━━━━━━━━━━━━━━━━━━━╇━━━━━━━━━━━━━━━━━━━━━━━━╇━━━━━━━━━━━━━━━┩\n",
       "│ conv2d_4 (\u001b[38;5;33mConv2D\u001b[0m)               │ (\u001b[38;5;45mNone\u001b[0m, \u001b[38;5;34m126\u001b[0m, \u001b[38;5;34m126\u001b[0m, \u001b[38;5;34m32\u001b[0m)   │           \u001b[38;5;34m896\u001b[0m │\n",
       "├─────────────────────────────────┼────────────────────────┼───────────────┤\n",
       "│ max_pooling2d_4 (\u001b[38;5;33mMaxPooling2D\u001b[0m)  │ (\u001b[38;5;45mNone\u001b[0m, \u001b[38;5;34m63\u001b[0m, \u001b[38;5;34m63\u001b[0m, \u001b[38;5;34m32\u001b[0m)     │             \u001b[38;5;34m0\u001b[0m │\n",
       "├─────────────────────────────────┼────────────────────────┼───────────────┤\n",
       "│ conv2d_5 (\u001b[38;5;33mConv2D\u001b[0m)               │ (\u001b[38;5;45mNone\u001b[0m, \u001b[38;5;34m61\u001b[0m, \u001b[38;5;34m61\u001b[0m, \u001b[38;5;34m64\u001b[0m)     │        \u001b[38;5;34m18,496\u001b[0m │\n",
       "├─────────────────────────────────┼────────────────────────┼───────────────┤\n",
       "│ max_pooling2d_5 (\u001b[38;5;33mMaxPooling2D\u001b[0m)  │ (\u001b[38;5;45mNone\u001b[0m, \u001b[38;5;34m30\u001b[0m, \u001b[38;5;34m30\u001b[0m, \u001b[38;5;34m64\u001b[0m)     │             \u001b[38;5;34m0\u001b[0m │\n",
       "├─────────────────────────────────┼────────────────────────┼───────────────┤\n",
       "│ flatten_2 (\u001b[38;5;33mFlatten\u001b[0m)             │ (\u001b[38;5;45mNone\u001b[0m, \u001b[38;5;34m57600\u001b[0m)          │             \u001b[38;5;34m0\u001b[0m │\n",
       "├─────────────────────────────────┼────────────────────────┼───────────────┤\n",
       "│ dense_6 (\u001b[38;5;33mDense\u001b[0m)                 │ (\u001b[38;5;45mNone\u001b[0m, \u001b[38;5;34m128\u001b[0m)            │     \u001b[38;5;34m7,372,928\u001b[0m │\n",
       "├─────────────────────────────────┼────────────────────────┼───────────────┤\n",
       "│ dropout_4 (\u001b[38;5;33mDropout\u001b[0m)             │ (\u001b[38;5;45mNone\u001b[0m, \u001b[38;5;34m128\u001b[0m)            │             \u001b[38;5;34m0\u001b[0m │\n",
       "├─────────────────────────────────┼────────────────────────┼───────────────┤\n",
       "│ dense_7 (\u001b[38;5;33mDense\u001b[0m)                 │ (\u001b[38;5;45mNone\u001b[0m, \u001b[38;5;34m64\u001b[0m)             │         \u001b[38;5;34m8,256\u001b[0m │\n",
       "├─────────────────────────────────┼────────────────────────┼───────────────┤\n",
       "│ dropout_5 (\u001b[38;5;33mDropout\u001b[0m)             │ (\u001b[38;5;45mNone\u001b[0m, \u001b[38;5;34m64\u001b[0m)             │             \u001b[38;5;34m0\u001b[0m │\n",
       "├─────────────────────────────────┼────────────────────────┼───────────────┤\n",
       "│ dense_8 (\u001b[38;5;33mDense\u001b[0m)                 │ (\u001b[38;5;45mNone\u001b[0m, \u001b[38;5;34m2\u001b[0m)              │           \u001b[38;5;34m130\u001b[0m │\n",
       "└─────────────────────────────────┴────────────────────────┴───────────────┘\n"
      ]
     },
     "metadata": {},
     "output_type": "display_data"
    },
    {
     "data": {
      "text/html": [
       "<pre style=\"white-space:pre;overflow-x:auto;line-height:normal;font-family:Menlo,'DejaVu Sans Mono',consolas,'Courier New',monospace\"><span style=\"font-weight: bold\"> Total params: </span><span style=\"color: #00af00; text-decoration-color: #00af00\">7,400,706</span> (28.23 MB)\n",
       "</pre>\n"
      ],
      "text/plain": [
       "\u001b[1m Total params: \u001b[0m\u001b[38;5;34m7,400,706\u001b[0m (28.23 MB)\n"
      ]
     },
     "metadata": {},
     "output_type": "display_data"
    },
    {
     "data": {
      "text/html": [
       "<pre style=\"white-space:pre;overflow-x:auto;line-height:normal;font-family:Menlo,'DejaVu Sans Mono',consolas,'Courier New',monospace\"><span style=\"font-weight: bold\"> Trainable params: </span><span style=\"color: #00af00; text-decoration-color: #00af00\">7,400,706</span> (28.23 MB)\n",
       "</pre>\n"
      ],
      "text/plain": [
       "\u001b[1m Trainable params: \u001b[0m\u001b[38;5;34m7,400,706\u001b[0m (28.23 MB)\n"
      ]
     },
     "metadata": {},
     "output_type": "display_data"
    },
    {
     "data": {
      "text/html": [
       "<pre style=\"white-space:pre;overflow-x:auto;line-height:normal;font-family:Menlo,'DejaVu Sans Mono',consolas,'Courier New',monospace\"><span style=\"font-weight: bold\"> Non-trainable params: </span><span style=\"color: #00af00; text-decoration-color: #00af00\">0</span> (0.00 B)\n",
       "</pre>\n"
      ],
      "text/plain": [
       "\u001b[1m Non-trainable params: \u001b[0m\u001b[38;5;34m0\u001b[0m (0.00 B)\n"
      ]
     },
     "metadata": {},
     "output_type": "display_data"
    }
   ],
   "source": [
    "cnn.summary()"
   ]
  },
  {
   "cell_type": "code",
   "execution_count": 49,
   "metadata": {
    "id": "_yNM8TY7mRdc"
   },
   "outputs": [],
   "source": [
    "cnn.compile(optimizer='adam',loss='sparse_categorical_crossentropy',metrics=['accuracy'])"
   ]
  },
  {
   "cell_type": "code",
   "execution_count": 51,
   "metadata": {
    "colab": {
     "base_uri": "https://localhost:8080/"
    },
    "id": "XThIVzp8mULM",
    "outputId": "42a33b78-e8a8-492a-bc54-e3e82d199957"
   },
   "outputs": [
    {
     "name": "stdout",
     "output_type": "stream",
     "text": [
      "Epoch 1/5\n",
      "\u001b[1m21/21\u001b[0m \u001b[32m━━━━━━━━━━━━━━━━━━━━\u001b[0m\u001b[37m\u001b[0m \u001b[1m16s\u001b[0m 774ms/step - accuracy: 0.7505 - loss: 0.5211 - val_accuracy: 0.9102 - val_loss: 0.2740\n",
      "Epoch 2/5\n",
      "\u001b[1m21/21\u001b[0m \u001b[32m━━━━━━━━━━━━━━━━━━━━\u001b[0m\u001b[37m\u001b[0m \u001b[1m14s\u001b[0m 675ms/step - accuracy: 0.8415 - loss: 0.3422 - val_accuracy: 0.9581 - val_loss: 0.1394\n",
      "Epoch 3/5\n",
      "\u001b[1m21/21\u001b[0m \u001b[32m━━━━━━━━━━━━━━━━━━━━\u001b[0m\u001b[37m\u001b[0m \u001b[1m15s\u001b[0m 693ms/step - accuracy: 0.9278 - loss: 0.1920 - val_accuracy: 0.9521 - val_loss: 0.1299\n",
      "Epoch 4/5\n",
      "\u001b[1m21/21\u001b[0m \u001b[32m━━━━━━━━━━━━━━━━━━━━\u001b[0m\u001b[37m\u001b[0m \u001b[1m15s\u001b[0m 702ms/step - accuracy: 0.9539 - loss: 0.1118 - val_accuracy: 0.9880 - val_loss: 0.0437\n",
      "Epoch 5/5\n",
      "\u001b[1m21/21\u001b[0m \u001b[32m━━━━━━━━━━━━━━━━━━━━\u001b[0m\u001b[37m\u001b[0m \u001b[1m19s\u001b[0m 635ms/step - accuracy: 0.9602 - loss: 0.0884 - val_accuracy: 0.9940 - val_loss: 0.0119\n"
     ]
    }
   ],
   "source": [
    "history = cnn.fit(X_train_scaled, Y_train, epochs=5, validation_data=(X_test_scaled, Y_test))"
   ]
  },
  {
   "cell_type": "code",
   "execution_count": 52,
   "metadata": {
    "colab": {
     "base_uri": "https://localhost:8080/",
     "height": 472
    },
    "id": "2H1T9caXomiX",
    "outputId": "af1fdb03-5599-4257-c53f-8579b4abe259"
   },
   "outputs": [
    {
     "data": {
      "image/png": "[encoded data removed]",
      "text/plain": [
       "<Figure size 640x480 with 1 Axes>"
      ]
     },
     "metadata": {},
     "output_type": "display_data"
    }
   ],
   "source": [
    "# Function to plot the accuracy graph\n",
    "def plot_accuracy(history):\n",
    "    acc = history.history['accuracy']\n",
    "    val_acc = history.history['val_accuracy']\n",
    "    epochs = range(1, len(acc) + 1)\n",
    "\n",
    "    plt.plot(epochs, acc, 'bo', label='Training accuracy')\n",
    "    plt.plot(epochs, val_acc, 'b', label='Validation accuracy')\n",
    "    plt.title('Training and validation accuracy')\n",
    "    plt.xlabel('Epochs')\n",
    "    plt.ylabel('Accuracy')\n",
    "    plt.legend()\n",
    "    plt.show()\n",
    "\n",
    "# Plotting the accuracy graph\n",
    "plot_accuracy(history)"
   ]
  },
  {
   "cell_type": "code",
   "execution_count": 53,
   "metadata": {},
   "outputs": [
    {
     "name": "stderr",
     "output_type": "stream",
     "text": [
      "WARNING:absl:You are saving your model as an HDF5 file via `model.save()` or `keras.saving.save_model(model)`. This file format is considered legacy. We recommend using instead the native Keras format, e.g. `model.save('my_model.keras')` or `keras.saving.save_model(model, 'my_model.keras')`. \n"
     ]
    }
   ],
   "source": [
    "cnn.save('parkinson.h5')"
   ]
  },
  {
   "cell_type": "markdown",
   "metadata": {
    "id": "nKYCX4FrTYzL"
   },
   "source": [
    "### Model Evaluation"
   ]
  },
  {
   "cell_type": "code",
   "execution_count": 54,
   "metadata": {
    "colab": {
     "base_uri": "https://localhost:8080/"
    },
    "id": "zHzqg8P5mYQF",
    "outputId": "9ed64383-d232-404d-e6ca-26c380b06ab1"
   },
   "outputs": [
    {
     "name": "stdout",
     "output_type": "stream",
     "text": [
      "\u001b[1m6/6\u001b[0m \u001b[32m━━━━━━━━━━━━━━━━━━━━\u001b[0m\u001b[37m\u001b[0m \u001b[1m1s\u001b[0m 94ms/step - accuracy: 0.9881 - loss: 0.0170 \n",
      "Test Accuracy = [0.011885030195116997, 0.9940119981765747]\n"
     ]
    }
   ],
   "source": [
    "accuracy = cnn.evaluate(X_test_scaled, Y_test)\n",
    "print('Test Accuracy =', accuracy)"
   ]
  },
  {
   "cell_type": "markdown",
   "metadata": {
    "id": "6hefkR8CeJET"
   },
   "source": [
    "### Predictive System"
   ]
  },
  {
   "cell_type": "code",
   "execution_count": 55,
   "metadata": {
    "colab": {
     "base_uri": "https://localhost:8080/",
     "height": 342
    },
    "id": "UJ8ikAmhwzEY",
    "outputId": "a4ab95ec-3a01-48e6-da4e-00c926b52579"
   },
   "outputs": [
    {
     "name": "stdout",
     "output_type": "stream",
     "text": [
      "\u001b[1m1/1\u001b[0m \u001b[32m━━━━━━━━━━━━━━━━━━━━\u001b[0m\u001b[37m\u001b[0m \u001b[1m0s\u001b[0m 131ms/step\n",
      "[[3.4601847e-04 9.8829770e-01]]\n",
      "1\n",
      "The person is having parkinson disease\n"
     ]
    }
   ],
   "source": [
    "import cv2\n",
    "import matplotlib.pyplot as plt\n",
    "import numpy as np\n",
    "import tensorflow as tf\n",
    "from tensorflow.keras import layers, models\n",
    "\n",
    "\n",
    "input_image_path = r'C:\\Users\\Nandu Gatla\\Downloads\\parkinsons_dataset project\\parkinsons_dataset\\parkinson\\dReg_-_sDW_SSh_SENSE_003.png'\n",
    "\n",
    "input_image = cv2.imread(input_image_path)\n",
    "\n",
    "\n",
    "input_image_resized = cv2.resize(input_image, (128,128))\n",
    "\n",
    "input_image_scaled = input_image_resized/255\n",
    "\n",
    "input_image_reshaped = np.reshape(input_image_scaled, [1,128,128,3])\n",
    "\n",
    "input_prediction = cnn.predict(input_image_reshaped)\n",
    "\n",
    "print(input_prediction)\n",
    "\n",
    "\n",
    "input_pred_label = np.argmax(input_prediction)\n",
    "\n",
    "print(input_pred_label)\n",
    "\n",
    "\n",
    "if input_pred_label == 0:\n",
    "\n",
    "  print('The person is Normal')\n",
    "\n",
    "else:\n",
    "\n",
    "  print('The person is having parkinson disease')"
   ]
  },
  {
   "cell_type": "code",
   "execution_count": 56,
   "metadata": {},
   "outputs": [
    {
     "name": "stderr",
     "output_type": "stream",
     "text": [
      "WARNING:absl:Compiled the loaded model, but the compiled metrics have yet to be built. `model.compile_metrics` will be empty until you train or evaluate the model.\n"
     ]
    },
    {
     "name": "stdout",
     "output_type": "stream",
     "text": [
      "\u001b[1m6/6\u001b[0m \u001b[32m━━━━━━━━━━━━━━━━━━━━\u001b[0m\u001b[37m\u001b[0m \u001b[1m1s\u001b[0m 123ms/step\n"
     ]
    },
    {
     "data": {
      "image/png": "[encoded data removed]",
      "text/plain": [
       "<Figure size 640x480 with 2 Axes>"
      ]
     },
     "metadata": {},
     "output_type": "display_data"
    }
   ],
   "source": [
    "from sklearn.metrics import confusion_matrix, ConfusionMatrixDisplay\n",
    "import matplotlib.pyplot as plt\n",
    "\n",
    "# Assuming you have already loaded and preprocessed your data\n",
    "# and your model is trained and saved as 'parkinson_cnn_model.h5'\n",
    "from tensorflow.keras.models import load_model\n",
    "model = load_model(r'C:\\Users\\Nandu Gatla\\Downloads\\parkinsons_dataset project\\parkinson.h5')\n",
    "\n",
    "# Make predictions on the test set\n",
    "y_pred_prob = model.predict(X_test)\n",
    "y_pred = np.argmax(y_pred_prob, axis=1)\n",
    "\n",
    "# Generate confusion matrix\n",
    "cm = confusion_matrix(Y_test, y_pred)\n",
    "disp = ConfusionMatrixDisplay(confusion_matrix=cm)\n",
    "disp.plot()\n",
    "plt.show()\n",
    "\n"
   ]
  }
 ],
 "metadata": {
  "colab": {
   "provenance": []
  },
  "kernelspec": {
   "display_name": "Python 3 (ipykernel)",
   "language": "python",
   "name": "python3"
  },
  "language_info": {
   "codemirror_mode": {
    "name": "ipython",
    "version": 3
   },
   "file_extension": ".py",
   "mimetype": "text/x-python",
   "name": "python",
   "nbconvert_exporter": "python",
   "pygments_lexer": "ipython3",
   "version": "3.12.0"
  }
 },
 "nbformat": 4,
 "nbformat_minor": 4
}
